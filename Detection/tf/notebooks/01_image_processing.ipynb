{
 "cells": [
  {
   "cell_type": "code",
   "execution_count": 14,
   "metadata": {},
   "outputs": [
    {
     "data": {
      "text/html": [
       "<div>\n",
       "<style scoped>\n",
       "    .dataframe tbody tr th:only-of-type {\n",
       "        vertical-align: middle;\n",
       "    }\n",
       "\n",
       "    .dataframe tbody tr th {\n",
       "        vertical-align: top;\n",
       "    }\n",
       "\n",
       "    .dataframe thead th {\n",
       "        text-align: right;\n",
       "    }\n",
       "</style>\n",
       "<table border=\"1\" class=\"dataframe\">\n",
       "  <thead>\n",
       "    <tr style=\"text-align: right;\">\n",
       "      <th></th>\n",
       "      <th>id</th>\n",
       "      <th>category</th>\n",
       "      <th>rect</th>\n",
       "      <th>pixels</th>\n",
       "      <th>xmin</th>\n",
       "      <th>ymin</th>\n",
       "      <th>xmax</th>\n",
       "      <th>ymax</th>\n",
       "      <th>bbox</th>\n",
       "      <th>filename</th>\n",
       "      <th>height</th>\n",
       "      <th>width</th>\n",
       "      <th>iter_num</th>\n",
       "      <th>camera_scene</th>\n",
       "      <th>shape_id</th>\n",
       "    </tr>\n",
       "  </thead>\n",
       "  <tbody>\n",
       "    <tr>\n",
       "      <th>0</th>\n",
       "      <td>1</td>\n",
       "      <td>fork</td>\n",
       "      <td>[1195, 302, 121, 30]</td>\n",
       "      <td>1782</td>\n",
       "      <td>1195</td>\n",
       "      <td>302</td>\n",
       "      <td>1316</td>\n",
       "      <td>332</td>\n",
       "      <td>[1195, 302, 121, 30]</td>\n",
       "      <td>iter0_InstanceGroup2Desccamera_0camera_Shape0_...</td>\n",
       "      <td>1080</td>\n",
       "      <td>1920</td>\n",
       "      <td>iter0</td>\n",
       "      <td>0camera</td>\n",
       "      <td>Shape0</td>\n",
       "    </tr>\n",
       "    <tr>\n",
       "      <th>1</th>\n",
       "      <td>2</td>\n",
       "      <td>coffeeCup</td>\n",
       "      <td>[899, 276, 222, 236]</td>\n",
       "      <td>29705</td>\n",
       "      <td>899</td>\n",
       "      <td>276</td>\n",
       "      <td>1121</td>\n",
       "      <td>512</td>\n",
       "      <td>[899, 276, 222, 236]</td>\n",
       "      <td>iter0_InstanceGroup2Desccamera_0camera_Shape0_...</td>\n",
       "      <td>1080</td>\n",
       "      <td>1920</td>\n",
       "      <td>iter0</td>\n",
       "      <td>0camera</td>\n",
       "      <td>Shape0</td>\n",
       "    </tr>\n",
       "    <tr>\n",
       "      <th>2</th>\n",
       "      <td>3</td>\n",
       "      <td>clearCup</td>\n",
       "      <td>[619, 395, 257, 167]</td>\n",
       "      <td>34122</td>\n",
       "      <td>619</td>\n",
       "      <td>395</td>\n",
       "      <td>876</td>\n",
       "      <td>562</td>\n",
       "      <td>[619, 395, 257, 167]</td>\n",
       "      <td>iter0_InstanceGroup2Desccamera_0camera_Shape0_...</td>\n",
       "      <td>1080</td>\n",
       "      <td>1920</td>\n",
       "      <td>iter0</td>\n",
       "      <td>0camera</td>\n",
       "      <td>Shape0</td>\n",
       "    </tr>\n",
       "    <tr>\n",
       "      <th>3</th>\n",
       "      <td>4</td>\n",
       "      <td>clearCup</td>\n",
       "      <td>[1230, 0, 142, 155]</td>\n",
       "      <td>12867</td>\n",
       "      <td>1230</td>\n",
       "      <td>0</td>\n",
       "      <td>1372</td>\n",
       "      <td>155</td>\n",
       "      <td>[1230, 0, 142, 155]</td>\n",
       "      <td>iter0_InstanceGroup2Desccamera_0camera_Shape0_...</td>\n",
       "      <td>1080</td>\n",
       "      <td>1920</td>\n",
       "      <td>iter0</td>\n",
       "      <td>0camera</td>\n",
       "      <td>Shape0</td>\n",
       "    </tr>\n",
       "    <tr>\n",
       "      <th>4</th>\n",
       "      <td>5</td>\n",
       "      <td>clearCup</td>\n",
       "      <td>[331, 0, 80, 41]</td>\n",
       "      <td>2616</td>\n",
       "      <td>331</td>\n",
       "      <td>0</td>\n",
       "      <td>411</td>\n",
       "      <td>41</td>\n",
       "      <td>[331, 0, 80, 41]</td>\n",
       "      <td>iter0_InstanceGroup2Desccamera_0camera_Shape0_...</td>\n",
       "      <td>1080</td>\n",
       "      <td>1920</td>\n",
       "      <td>iter0</td>\n",
       "      <td>0camera</td>\n",
       "      <td>Shape0</td>\n",
       "    </tr>\n",
       "  </tbody>\n",
       "</table>\n",
       "</div>"
      ],
      "text/plain": [
       "   id   category                  rect  pixels  xmin  ymin  xmax  ymax  \\\n",
       "0   1       fork  [1195, 302, 121, 30]    1782  1195   302  1316   332   \n",
       "1   2  coffeeCup  [899, 276, 222, 236]   29705   899   276  1121   512   \n",
       "2   3   clearCup  [619, 395, 257, 167]   34122   619   395   876   562   \n",
       "3   4   clearCup   [1230, 0, 142, 155]   12867  1230     0  1372   155   \n",
       "4   5   clearCup      [331, 0, 80, 41]    2616   331     0   411    41   \n",
       "\n",
       "                   bbox                                           filename  \\\n",
       "0  [1195, 302, 121, 30]  iter0_InstanceGroup2Desccamera_0camera_Shape0_...   \n",
       "1  [899, 276, 222, 236]  iter0_InstanceGroup2Desccamera_0camera_Shape0_...   \n",
       "2  [619, 395, 257, 167]  iter0_InstanceGroup2Desccamera_0camera_Shape0_...   \n",
       "3   [1230, 0, 142, 155]  iter0_InstanceGroup2Desccamera_0camera_Shape0_...   \n",
       "4      [331, 0, 80, 41]  iter0_InstanceGroup2Desccamera_0camera_Shape0_...   \n",
       "\n",
       "   height  width iter_num camera_scene shape_id  \n",
       "0    1080   1920    iter0      0camera   Shape0  \n",
       "1    1080   1920    iter0      0camera   Shape0  \n",
       "2    1080   1920    iter0      0camera   Shape0  \n",
       "3    1080   1920    iter0      0camera   Shape0  \n",
       "4    1080   1920    iter0      0camera   Shape0  "
      ]
     },
     "execution_count": 14,
     "metadata": {},
     "output_type": "execute_result"
    }
   ],
   "source": [
    "import pandas as pd\n",
    "# import plotting libraries\n",
    "\n",
    "import matplotlib.pyplot as plt\n",
    "import seaborn as sns\n",
    "\n",
    "df = pd.read_csv(\"/home/redne/mnt/zerowaste_blob/project_zero/experiments/ds01_v1/ds01_v1_052420.csv\")\n",
    "df.drop(\"index\", axis=1,inplace=True)\n",
    "df.head()"
   ]
  },
  {
   "cell_type": "code",
   "execution_count": 15,
   "metadata": {},
   "outputs": [
    {
     "name": "stdout",
     "output_type": "stream",
     "text": [
      "list of unique objects in dataset\n",
      "\n",
      "['fork', 'coffeeCup', 'clearCup', 'spoon', 'knife']\n"
     ]
    },
    {
     "data": {
      "image/png": "[encoded data removed]",
      "text/plain": [
       "<Figure size 432x288 with 1 Axes>"
      ]
     },
     "metadata": {
      "needs_background": "light"
     },
     "output_type": "display_data"
    }
   ],
   "source": [
    "print(\"list of unique objects in dataset\\n\")\n",
    "print(list(df.category.unique()))\n",
    "sns.countplot(df.category);"
   ]
  },
  {
   "cell_type": "markdown",
   "metadata": {},
   "source": [
    "__Only used 3 combined `ms_utincles` category in DS0 approach and not in DS1__"
   ]
  },
  {
   "cell_type": "code",
   "execution_count": 13,
   "metadata": {},
   "outputs": [
    {
     "name": "stdout",
     "output_type": "stream",
     "text": [
      "list of unique objects in dataset\n",
      "\n",
      "['ms_utincles', 'coffeeCup', 'clearCup']\n"
     ]
    },
    {
     "data": {
      "image/png": "[encoded data removed]",
      "text/plain": [
       "<Figure size 432x288 with 1 Axes>"
      ]
     },
     "metadata": {
      "needs_background": "light"
     },
     "output_type": "display_data"
    }
   ],
   "source": [
    "## DO NOT RUN IF NOT DS0 EXPERIMENT!\n",
    "ms_utincles_cat = ['fork', 'spoon', 'knife']\n",
    "df[\"category_ds0v1\"] = df.category\n",
    "df.loc[df.category.isin(ms_utincles_cat), \"category_ds0v1\"] = \"ms_utincles\"\n",
    "ds0v1_categories = list(df.category_ds0v1.unique())\n",
    "print(\"list of unique objects in dataset\\n\")\n",
    "print(ds0v1_categories)\n",
    "sns.countplot(df.category_ds0v1);"
   ]
  },
  {
   "cell_type": "markdown",
   "metadata": {},
   "source": [
    "---- \n",
    "### TODO> Any needed Preprocessing"
   ]
  },
  {
   "cell_type": "markdown",
   "metadata": {},
   "source": [
    "....."
   ]
  },
  {
   "cell_type": "markdown",
   "metadata": {},
   "source": [
    "-----\n",
    "# Experiment 1: DS1 All RAW_RENDERINGS"
   ]
  },
  {
   "cell_type": "code",
   "execution_count": null,
   "metadata": {},
   "outputs": [],
   "source": []
  },
  {
   "cell_type": "code",
   "execution_count": 18,
   "metadata": {},
   "outputs": [
    {
     "data": {
      "text/html": [
       "<div>\n",
       "<style scoped>\n",
       "    .dataframe tbody tr th:only-of-type {\n",
       "        vertical-align: middle;\n",
       "    }\n",
       "\n",
       "    .dataframe tbody tr th {\n",
       "        vertical-align: top;\n",
       "    }\n",
       "\n",
       "    .dataframe thead th {\n",
       "        text-align: right;\n",
       "    }\n",
       "</style>\n",
       "<table border=\"1\" class=\"dataframe\">\n",
       "  <thead>\n",
       "    <tr style=\"text-align: right;\">\n",
       "      <th></th>\n",
       "      <th>category</th>\n",
       "      <th>count</th>\n",
       "    </tr>\n",
       "  </thead>\n",
       "  <tbody>\n",
       "    <tr>\n",
       "      <th>0</th>\n",
       "      <td>clearCup</td>\n",
       "      <td>1110</td>\n",
       "    </tr>\n",
       "    <tr>\n",
       "      <th>1</th>\n",
       "      <td>coffeeCup</td>\n",
       "      <td>1130</td>\n",
       "    </tr>\n",
       "    <tr>\n",
       "      <th>2</th>\n",
       "      <td>fork</td>\n",
       "      <td>1240</td>\n",
       "    </tr>\n",
       "    <tr>\n",
       "      <th>3</th>\n",
       "      <td>knife</td>\n",
       "      <td>1220</td>\n",
       "    </tr>\n",
       "    <tr>\n",
       "      <th>4</th>\n",
       "      <td>spoon</td>\n",
       "      <td>1230</td>\n",
       "    </tr>\n",
       "  </tbody>\n",
       "</table>\n",
       "</div>"
      ],
      "text/plain": [
       "    category  count\n",
       "0   clearCup   1110\n",
       "1  coffeeCup   1130\n",
       "2       fork   1240\n",
       "3      knife   1220\n",
       "4      spoon   1230"
      ]
     },
     "execution_count": 18,
     "metadata": {},
     "output_type": "execute_result"
    }
   ],
   "source": [
    "#core_train_data = df[df.category_ds0v1.isin(ds0v1_categories)]\n",
    "#core_train_data.drop(\"category\", axis=1, inplace=True)\n",
    "#core_train_data.rename(columns={'category_ds0v1':'category'}, inplace=True)\n",
    "#core_train_data = core_train_data[core_train_data.category.isin(core_categories)]\n",
    "\n",
    "core_train_data = df\n",
    "category_count = core_train_data.groupby(\"category\")['pixels'].count().reset_index()\n",
    "category_count.columns = ['category', 'count']\n",
    "category_count"
   ]
  },
  {
   "cell_type": "markdown",
   "metadata": {},
   "source": [
    "### EVEN DISTRIBUTION"
   ]
  },
  {
   "cell_type": "code",
   "execution_count": 19,
   "metadata": {},
   "outputs": [
    {
     "data": {
      "text/html": [
       "<style  type=\"text/css\" >\n",
       "</style><table id=\"T_815ea3bc_a4cf_11ea_ad2e_000d3a71f768\" ><thead>    <tr>        <th class=\"col_heading level0 col0\" >category</th>        <th class=\"col_heading level0 col1\" >train</th>        <th class=\"col_heading level0 col2\" >test</th>        <th class=\"col_heading level0 col3\" >val</th>        <th class=\"col_heading level0 col4\" >df_total</th>    </tr></thead><tbody>\n",
       "                <tr>\n",
       "                                <td id=\"T_815ea3bc_a4cf_11ea_ad2e_000d3a71f768row0_col0\" class=\"data row0 col0\" >fork</td>\n",
       "                        <td id=\"T_815ea3bc_a4cf_11ea_ad2e_000d3a71f768row0_col1\" class=\"data row0 col1\" >823</td>\n",
       "                        <td id=\"T_815ea3bc_a4cf_11ea_ad2e_000d3a71f768row0_col2\" class=\"data row0 col2\" >328</td>\n",
       "                        <td id=\"T_815ea3bc_a4cf_11ea_ad2e_000d3a71f768row0_col3\" class=\"data row0 col3\" >89</td>\n",
       "                        <td id=\"T_815ea3bc_a4cf_11ea_ad2e_000d3a71f768row0_col4\" class=\"data row0 col4\" >1240</td>\n",
       "            </tr>\n",
       "            <tr>\n",
       "                                <td id=\"T_815ea3bc_a4cf_11ea_ad2e_000d3a71f768row1_col0\" class=\"data row1 col0\" >knife</td>\n",
       "                        <td id=\"T_815ea3bc_a4cf_11ea_ad2e_000d3a71f768row1_col1\" class=\"data row1 col1\" >822</td>\n",
       "                        <td id=\"T_815ea3bc_a4cf_11ea_ad2e_000d3a71f768row1_col2\" class=\"data row1 col2\" >307</td>\n",
       "                        <td id=\"T_815ea3bc_a4cf_11ea_ad2e_000d3a71f768row1_col3\" class=\"data row1 col3\" >91</td>\n",
       "                        <td id=\"T_815ea3bc_a4cf_11ea_ad2e_000d3a71f768row1_col4\" class=\"data row1 col4\" >1220</td>\n",
       "            </tr>\n",
       "            <tr>\n",
       "                                <td id=\"T_815ea3bc_a4cf_11ea_ad2e_000d3a71f768row2_col0\" class=\"data row2 col0\" >spoon</td>\n",
       "                        <td id=\"T_815ea3bc_a4cf_11ea_ad2e_000d3a71f768row2_col1\" class=\"data row2 col1\" >817</td>\n",
       "                        <td id=\"T_815ea3bc_a4cf_11ea_ad2e_000d3a71f768row2_col2\" class=\"data row2 col2\" >331</td>\n",
       "                        <td id=\"T_815ea3bc_a4cf_11ea_ad2e_000d3a71f768row2_col3\" class=\"data row2 col3\" >82</td>\n",
       "                        <td id=\"T_815ea3bc_a4cf_11ea_ad2e_000d3a71f768row2_col4\" class=\"data row2 col4\" >1230</td>\n",
       "            </tr>\n",
       "            <tr>\n",
       "                                <td id=\"T_815ea3bc_a4cf_11ea_ad2e_000d3a71f768row3_col0\" class=\"data row3 col0\" >coffeeCup</td>\n",
       "                        <td id=\"T_815ea3bc_a4cf_11ea_ad2e_000d3a71f768row3_col1\" class=\"data row3 col1\" >748</td>\n",
       "                        <td id=\"T_815ea3bc_a4cf_11ea_ad2e_000d3a71f768row3_col2\" class=\"data row3 col2\" >289</td>\n",
       "                        <td id=\"T_815ea3bc_a4cf_11ea_ad2e_000d3a71f768row3_col3\" class=\"data row3 col3\" >93</td>\n",
       "                        <td id=\"T_815ea3bc_a4cf_11ea_ad2e_000d3a71f768row3_col4\" class=\"data row3 col4\" >1130</td>\n",
       "            </tr>\n",
       "            <tr>\n",
       "                                <td id=\"T_815ea3bc_a4cf_11ea_ad2e_000d3a71f768row4_col0\" class=\"data row4 col0\" >clearCup</td>\n",
       "                        <td id=\"T_815ea3bc_a4cf_11ea_ad2e_000d3a71f768row4_col1\" class=\"data row4 col1\" >734</td>\n",
       "                        <td id=\"T_815ea3bc_a4cf_11ea_ad2e_000d3a71f768row4_col2\" class=\"data row4 col2\" >284</td>\n",
       "                        <td id=\"T_815ea3bc_a4cf_11ea_ad2e_000d3a71f768row4_col3\" class=\"data row4 col3\" >92</td>\n",
       "                        <td id=\"T_815ea3bc_a4cf_11ea_ad2e_000d3a71f768row4_col4\" class=\"data row4 col4\" >1110</td>\n",
       "            </tr>\n",
       "    </tbody></table>"
      ],
      "text/plain": [
       "<pandas.io.formats.style.Styler at 0x7f1976cd8410>"
      ]
     },
     "execution_count": 19,
     "metadata": {},
     "output_type": "execute_result"
    }
   ],
   "source": [
    "#> from ZW dataset img process 2019\n",
    "#base_train_df = core_train_data[core_train_data.category.isin(under_sample_categories)]\n",
    "#included_filenames = list(df_800.filename.unique()) + list(base_train_df.filename.unique())\n",
    "#included_categories = list(df_800.category.unique())+ list(base_train_df.category.unique())\n",
    "\n",
    "#df_even_df_final = core_train_data[(core_train_data.filename.isin(included_filenames)) & (core_train_data.category.isin(included_categories))]\n",
    "#df_even_df_final = core_train_data[core_train_data.filename.isin(dev_filenames)]\n",
    "\n",
    "df_even_df_final = df\n",
    "\n",
    "from sklearn.model_selection import GroupShuffleSplit\n",
    "train_inds, test_inds = next(GroupShuffleSplit(test_size=.25, n_splits=2, \n",
    "                                               random_state = 42).split(df_even_df_final, groups=df_even_df_final.filename))\n",
    "df_even_df_final.rename(columns={'category':'class'}, inplace=True)\n",
    "\n",
    "\n",
    "train_df_tmp = df_even_df_final.iloc[train_inds]\n",
    "test_df = df_even_df_final.iloc[test_inds]\n",
    "\n",
    "train_inds, val_inds = next(GroupShuffleSplit(test_size=.1, n_splits=2, \n",
    "                                               random_state = 42).split(train_df_tmp, groups=train_df_tmp['filename']))\n",
    "\n",
    "\n",
    "train_df = train_df_tmp.iloc[train_inds]\n",
    "val_df = train_df_tmp.iloc[val_inds]\n",
    "\n",
    "# summer distribution table\n",
    "core_summary_df = pd.DataFrame([train_df['class'].value_counts(), test_df['class'].value_counts(), val_df['class'].value_counts()]).T.reset_index()\n",
    "core_summary_df = core_summary_df.join(category_count.set_index('category'), on='index', how='left')\n",
    "core_summary_df.columns = ['category','train', 'test', 'val','df_total']\n",
    "core_summary_df.style.hide_index()\n"
   ]
  },
  {
   "cell_type": "code",
   "execution_count": 20,
   "metadata": {},
   "outputs": [
    {
     "name": "stdout",
     "output_type": "stream",
     "text": [
      "image filename:  iter258_InstanceGroup2Desccamera_0camera_Shape0_rgb.jpg\n",
      "train count:  16\n",
      "test count:  0\n",
      "val count:  0\n"
     ]
    }
   ],
   "source": [
    "test_sample_fileName = df_even_df_final.filename.sample(n=1).values[0]\n",
    "print(\"image filename: \",test_sample_fileName)\n",
    "#train_df[train_df.filename.str.contains(test_sample_fileName)].head()\n",
    "print(\"train count: \",len(train_df[train_df.filename.str.contains(test_sample_fileName)]))\n",
    "\n",
    "print(\"test count: \", len(test_df[test_df.filename.str.contains(test_sample_fileName)]))\n",
    "\n",
    "#val_df[val_df.filename.str.contains(test_sample_fileName)].head()\n",
    "print(\"val count: \", len(val_df[val_df.filename.str.contains(test_sample_fileName)]))"
   ]
  },
  {
   "cell_type": "code",
   "execution_count": 22,
   "metadata": {},
   "outputs": [
    {
     "name": "stdout",
     "output_type": "stream",
     "text": [
      "* of Images in train:  337\n",
      "* of Images in test:  125\n",
      "* of Images in val:  38\n"
     ]
    }
   ],
   "source": [
    "#csv_path = '/home/redne/zw_torch/experiments/ds0/ds0_1/'\n",
    "csv_path = '/home/redne/mnt/zerowaste_blob/project_zero/experiments/ds01_v1/'\n",
    "print(\"* of Images in train: \",len(train_df.filename.unique()))\n",
    "print(\"* of Images in test: \",len(test_df.filename.unique()))\n",
    "print(\"* of Images in val: \",len(val_df.filename.unique()))"
   ]
  },
  {
   "cell_type": "code",
   "execution_count": 23,
   "metadata": {},
   "outputs": [
    {
     "name": "stdout",
     "output_type": "stream",
     "text": [
      "classes for training:  ['clearCup', 'coffeeCup', 'fork', 'knife', 'spoon']\n",
      "5\n"
     ]
    }
   ],
   "source": [
    "df_even_df_final.to_csv(csv_path + \"ds01_v1_dataset_052420.csv\")\n",
    "train_df.reset_index().to_csv(csv_path + \"train_labels.csv\")\n",
    "test_df.reset_index().to_csv(csv_path + \"test_labels.csv\")\n",
    "val_df.reset_index().to_csv(csv_path + \"val_labels.csv\")\n",
    "\n",
    "print(\"classes for training: \", sorted(list(df_even_df_final[\"class\"].unique()), reverse=False))\n",
    "\n",
    "num_classes = len(df_even_df_final[\"class\"].unique())\n",
    "print(num_classes)"
   ]
  },
  {
   "cell_type": "markdown",
   "metadata": {},
   "source": [
    "```python\n",
    "def class_text_to_int(row_label):\n",
    "    if row_label == 'clearCup':\n",
    "        return 1\n",
    "    elif row_label == 'coffeeCup':\n",
    "        return 2\n",
    "    elif row_label == 'fork':\n",
    "        return 3\n",
    "    elif row_label == 'knife':\n",
    "        return 4\n",
    "    elif row_label == 'spoon':\n",
    "        return 5\n",
    "    else:\n",
    "```"
   ]
  },
  {
   "cell_type": "markdown",
   "metadata": {},
   "source": [
    "#### Labelmap\n",
    "\n",
    "```json\n",
    "item {\n",
    "  id:1\n",
    "  name:'clearCup'\n",
    "}\n",
    "item {\n",
    "  id:2\n",
    "  name:'coffeeCup'\n",
    "}\n",
    "item {\n",
    "  id:3\n",
    "  name:'fork'\n",
    "}\n",
    "item {\n",
    "  id:4\n",
    "  name:'knife'\n",
    "}\n",
    "item {\n",
    "  id:5\n",
    "  name:'spoon'\n",
    "}\n",
    "```"
   ]
  },
  {
   "cell_type": "code",
   "execution_count": 24,
   "metadata": {},
   "outputs": [
    {
     "data": {
      "image/png": "[encoded data removed]",
      "text/plain": [
       "<Figure size 432x288 with 1 Axes>"
      ]
     },
     "metadata": {
      "needs_background": "light"
     },
     "output_type": "display_data"
    }
   ],
   "source": [
    "plt.hist([\n",
    "        train_df['class'], \n",
    "        test_df['class'], \n",
    "        test_df['class']\n",
    "        ], \n",
    "        stacked=True, \n",
    "        label=[\"train\", \"test\", \"val\"],\n",
    "        bins=num_classes\n",
    "    )\n",
    "\n",
    "plt.show()"
   ]
  },
  {
   "cell_type": "code",
   "execution_count": 25,
   "metadata": {},
   "outputs": [
    {
     "name": "stdout",
     "output_type": "stream",
     "text": [
      "Total files that contains more than 10 object in image: 240\n"
     ]
    },
    {
     "data": {
      "image/png": "[encoded data removed]",
      "text/plain": [
       "<Figure size 432x288 with 1 Axes>"
      ]
     },
     "metadata": {
      "needs_background": "light"
     },
     "output_type": "display_data"
    }
   ],
   "source": [
    "min_obj_num_in_image = 10\n",
    "filename_count = df_even_df_final['filename'].value_counts().reset_index()\n",
    "filename_count.rename(columns={'filename':'file_obj_count','index':'filename'}, inplace=True)\n",
    "\n",
    "sns.countplot(x=\"file_obj_count\", data=filename_count[filename_count.file_obj_count > min_obj_num_in_image])\n",
    "total_min_obj_count = len(filename_count[filename_count.file_obj_count > min_obj_num_in_image])\n",
    "print(f'Total files that contains more than {min_obj_num_in_image} object in image: {total_min_obj_count}')"
   ]
  },
  {
   "cell_type": "markdown",
   "metadata": {},
   "source": [
    "-----\n",
    "# Experiment 0: DS0.0 RAW_RENDERINGS"
   ]
  },
  {
   "cell_type": "code",
   "execution_count": 63,
   "metadata": {},
   "outputs": [
    {
     "data": {
      "text/html": [
       "<div>\n",
       "<style scoped>\n",
       "    .dataframe tbody tr th:only-of-type {\n",
       "        vertical-align: middle;\n",
       "    }\n",
       "\n",
       "    .dataframe tbody tr th {\n",
       "        vertical-align: top;\n",
       "    }\n",
       "\n",
       "    .dataframe thead th {\n",
       "        text-align: right;\n",
       "    }\n",
       "</style>\n",
       "<table border=\"1\" class=\"dataframe\">\n",
       "  <thead>\n",
       "    <tr style=\"text-align: right;\">\n",
       "      <th></th>\n",
       "      <th>category</th>\n",
       "      <th>count</th>\n",
       "    </tr>\n",
       "  </thead>\n",
       "  <tbody>\n",
       "    <tr>\n",
       "      <th>0</th>\n",
       "      <td>clearCup</td>\n",
       "      <td>1110</td>\n",
       "    </tr>\n",
       "    <tr>\n",
       "      <th>1</th>\n",
       "      <td>coffeeCup</td>\n",
       "      <td>1130</td>\n",
       "    </tr>\n",
       "    <tr>\n",
       "      <th>2</th>\n",
       "      <td>ms_utincles</td>\n",
       "      <td>3690</td>\n",
       "    </tr>\n",
       "  </tbody>\n",
       "</table>\n",
       "</div>"
      ],
      "text/plain": [
       "      category  count\n",
       "0     clearCup   1110\n",
       "1    coffeeCup   1130\n",
       "2  ms_utincles   3690"
      ]
     },
     "execution_count": 63,
     "metadata": {},
     "output_type": "execute_result"
    }
   ],
   "source": [
    "core_train_data = df[df.category_ds0v1.isin(ds0v1_categories)]\n",
    "core_train_data.drop(\"category\", axis=1, inplace=True)\n",
    "core_train_data.rename(columns={'category_ds0v1':'category'}, inplace=True)\n",
    "#core_train_data = core_train_data[core_train_data.category.isin(core_categories)]\n",
    "\n",
    "category_count = core_train_data.groupby(\"category\")['pixels'].count().reset_index()\n",
    "category_count.columns = ['category', 'count']\n",
    "category_count"
   ]
  },
  {
   "cell_type": "markdown",
   "metadata": {},
   "source": [
    "### EVEN DISTRIBUTION"
   ]
  },
  {
   "cell_type": "raw",
   "metadata": {},
   "source": [
    "#> from ZW dataset img process 2019\n",
    "\n",
    "sample_threshold = 2000\n",
    "under_sample_categories = list(category_count[category_count[\"count\"]<sample_threshold].category)\n",
    "base_train_df = core_train_data[core_train_data.category.isin(under_sample_categories)]\n",
    "categories_to_sample = list(category_count[category_count[\"count\"]>sample_threshold].category)\n",
    "\n",
    "# Return a random sample of items\n",
    "# random uniformly sampled rows\n",
    "df_800 = core_train_data[core_train_data.category.isin(categories_to_sample)].groupby('category', group_keys=False).apply(pd.DataFrame.sample, \n",
    "                                                                                                                          n=sample_threshold,\n",
    "                                                                                                                          random_state=42)\n",
    "df_800_count = df_800.groupby(\"category\")['pixels'].count().reset_index()\n",
    "df_800_count.columns = ['category', 'count']\n",
    "df_800_count"
   ]
  },
  {
   "cell_type": "code",
   "execution_count": 64,
   "metadata": {},
   "outputs": [
    {
     "name": "stdout",
     "output_type": "stream",
     "text": [
      "number of (unique) image files in dataset:  500\n"
     ]
    },
    {
     "data": {
      "text/html": [
       "<div>\n",
       "<style scoped>\n",
       "    .dataframe tbody tr th:only-of-type {\n",
       "        vertical-align: middle;\n",
       "    }\n",
       "\n",
       "    .dataframe tbody tr th {\n",
       "        vertical-align: top;\n",
       "    }\n",
       "\n",
       "    .dataframe thead th {\n",
       "        text-align: right;\n",
       "    }\n",
       "</style>\n",
       "<table border=\"1\" class=\"dataframe\">\n",
       "  <thead>\n",
       "    <tr style=\"text-align: right;\">\n",
       "      <th></th>\n",
       "      <th>category</th>\n",
       "      <th>count</th>\n",
       "    </tr>\n",
       "  </thead>\n",
       "  <tbody>\n",
       "    <tr>\n",
       "      <th>0</th>\n",
       "      <td>clearCup</td>\n",
       "      <td>1110</td>\n",
       "    </tr>\n",
       "    <tr>\n",
       "      <th>1</th>\n",
       "      <td>coffeeCup</td>\n",
       "      <td>1130</td>\n",
       "    </tr>\n",
       "    <tr>\n",
       "      <th>2</th>\n",
       "      <td>ms_utincles</td>\n",
       "      <td>3690</td>\n",
       "    </tr>\n",
       "  </tbody>\n",
       "</table>\n",
       "</div>"
      ],
      "text/plain": [
       "      category  count\n",
       "0     clearCup   1110\n",
       "1    coffeeCup   1130\n",
       "2  ms_utincles   3690"
      ]
     },
     "execution_count": 64,
     "metadata": {},
     "output_type": "execute_result"
    }
   ],
   "source": [
    "sample_threshold = 2000\n",
    "under_sample_categories = list(category_count[category_count[\"count\"]<sample_threshold].category)\n",
    "dev_filenames = core_train_data[core_train_data.category.isin(under_sample_categories)].filename\n",
    "\n",
    "print(\"number of (unique) image files in dataset: \", len(dev_filenames.unique()))\n",
    "df_800_count = core_train_data[core_train_data.filename.isin(dev_filenames)].groupby(\"category\")['pixels'].count().reset_index()\n",
    "df_800_count.columns = ['category', 'count']\n",
    "df_800_count"
   ]
  },
  {
   "cell_type": "code",
   "execution_count": 66,
   "metadata": {},
   "outputs": [
    {
     "data": {
      "text/html": [
       "<style  type=\"text/css\" >\n",
       "</style><table id=\"T_f6447ba8_9dbc_11ea_ab81_000d3a5baa34\" ><thead>    <tr>        <th class=\"col_heading level0 col0\" >category</th>        <th class=\"col_heading level0 col1\" >train</th>        <th class=\"col_heading level0 col2\" >test</th>        <th class=\"col_heading level0 col3\" >val</th>        <th class=\"col_heading level0 col4\" >df_total</th>    </tr></thead><tbody>\n",
       "                <tr>\n",
       "                                <td id=\"T_f6447ba8_9dbc_11ea_ab81_000d3a5baa34row0_col0\" class=\"data row0 col0\" >ms_utincles</td>\n",
       "                        <td id=\"T_f6447ba8_9dbc_11ea_ab81_000d3a5baa34row0_col1\" class=\"data row0 col1\" >2462</td>\n",
       "                        <td id=\"T_f6447ba8_9dbc_11ea_ab81_000d3a5baa34row0_col2\" class=\"data row0 col2\" >966</td>\n",
       "                        <td id=\"T_f6447ba8_9dbc_11ea_ab81_000d3a5baa34row0_col3\" class=\"data row0 col3\" >262</td>\n",
       "                        <td id=\"T_f6447ba8_9dbc_11ea_ab81_000d3a5baa34row0_col4\" class=\"data row0 col4\" >3690</td>\n",
       "            </tr>\n",
       "            <tr>\n",
       "                                <td id=\"T_f6447ba8_9dbc_11ea_ab81_000d3a5baa34row1_col0\" class=\"data row1 col0\" >coffeeCup</td>\n",
       "                        <td id=\"T_f6447ba8_9dbc_11ea_ab81_000d3a5baa34row1_col1\" class=\"data row1 col1\" >748</td>\n",
       "                        <td id=\"T_f6447ba8_9dbc_11ea_ab81_000d3a5baa34row1_col2\" class=\"data row1 col2\" >289</td>\n",
       "                        <td id=\"T_f6447ba8_9dbc_11ea_ab81_000d3a5baa34row1_col3\" class=\"data row1 col3\" >93</td>\n",
       "                        <td id=\"T_f6447ba8_9dbc_11ea_ab81_000d3a5baa34row1_col4\" class=\"data row1 col4\" >1130</td>\n",
       "            </tr>\n",
       "            <tr>\n",
       "                                <td id=\"T_f6447ba8_9dbc_11ea_ab81_000d3a5baa34row2_col0\" class=\"data row2 col0\" >clearCup</td>\n",
       "                        <td id=\"T_f6447ba8_9dbc_11ea_ab81_000d3a5baa34row2_col1\" class=\"data row2 col1\" >734</td>\n",
       "                        <td id=\"T_f6447ba8_9dbc_11ea_ab81_000d3a5baa34row2_col2\" class=\"data row2 col2\" >284</td>\n",
       "                        <td id=\"T_f6447ba8_9dbc_11ea_ab81_000d3a5baa34row2_col3\" class=\"data row2 col3\" >92</td>\n",
       "                        <td id=\"T_f6447ba8_9dbc_11ea_ab81_000d3a5baa34row2_col4\" class=\"data row2 col4\" >1110</td>\n",
       "            </tr>\n",
       "    </tbody></table>"
      ],
      "text/plain": [
       "<pandas.io.formats.style.Styler at 0x7fc2730f24d0>"
      ]
     },
     "execution_count": 66,
     "metadata": {},
     "output_type": "execute_result"
    }
   ],
   "source": [
    "#> from ZW dataset img process 2019\n",
    "#base_train_df = core_train_data[core_train_data.category.isin(under_sample_categories)]\n",
    "#included_filenames = list(df_800.filename.unique()) + list(base_train_df.filename.unique())\n",
    "#included_categories = list(df_800.category.unique())+ list(base_train_df.category.unique())\n",
    "\n",
    "#df_even_df_final = core_train_data[(core_train_data.filename.isin(included_filenames)) & (core_train_data.category.isin(included_categories))]\n",
    "df_even_df_final = core_train_data[core_train_data.filename.isin(dev_filenames)]\n",
    "\n",
    "from sklearn.model_selection import GroupShuffleSplit\n",
    "train_inds, test_inds = next(GroupShuffleSplit(test_size=.25, n_splits=2, \n",
    "                                               random_state = 42).split(df_even_df_final, groups=df_even_df_final.filename))\n",
    "df_even_df_final.rename(columns={'category':'class'}, inplace=True)\n",
    "\n",
    "\n",
    "train_df_tmp = df_even_df_final.iloc[train_inds]\n",
    "test_df = df_even_df_final.iloc[test_inds]\n",
    "\n",
    "train_inds, val_inds = next(GroupShuffleSplit(test_size=.1, n_splits=2, \n",
    "                                               random_state = 42).split(train_df_tmp, groups=train_df_tmp['filename']))\n",
    "\n",
    "\n",
    "train_df = train_df_tmp.iloc[train_inds]\n",
    "val_df = train_df_tmp.iloc[val_inds]\n",
    "\n",
    "# summer distribution table\n",
    "core_summary_df = pd.DataFrame([train_df['class'].value_counts(), test_df['class'].value_counts(), val_df['class'].value_counts()]).T.reset_index()\n",
    "core_summary_df = core_summary_df.join(category_count.set_index('category'), on='index', how='left')\n",
    "core_summary_df.columns = ['category','train', 'test', 'val','df_total']\n",
    "core_summary_df.style.hide_index()\n"
   ]
  },
  {
   "cell_type": "code",
   "execution_count": 69,
   "metadata": {},
   "outputs": [
    {
     "name": "stdout",
     "output_type": "stream",
     "text": [
      "image filename:  iter452_InstanceGroup2Desccamera_0camera_Shape0_rgb.jpg\n",
      "train count:  0\n",
      "test count:  9\n",
      "val count:  0\n"
     ]
    }
   ],
   "source": [
    "test_sample_fileName = df_even_df_final.filename.sample(n=1).values[0]\n",
    "print(\"image filename: \",test_sample_fileName)\n",
    "#train_df[train_df.filename.str.contains(test_sample_fileName)].head()\n",
    "print(\"train count: \",len(train_df[train_df.filename.str.contains(test_sample_fileName)]))\n",
    "\n",
    "print(\"test count: \", len(test_df[test_df.filename.str.contains(test_sample_fileName)]))\n",
    "\n",
    "#val_df[val_df.filename.str.contains(test_sample_fileName)].head()\n",
    "print(\"val count: \", len(val_df[val_df.filename.str.contains(test_sample_fileName)]))"
   ]
  },
  {
   "cell_type": "code",
   "execution_count": 70,
   "metadata": {},
   "outputs": [
    {
     "name": "stdout",
     "output_type": "stream",
     "text": [
      "* of Images in train:  337\n",
      "* of Images in test:  125\n",
      "* of Images in val:  38\n"
     ]
    }
   ],
   "source": [
    "#csv_path = '/home/redne/zw_torch/experiments/ds0/ds0_1/'\n",
    "csv_path = '/mnt/zerowaste_blob/project_zero/experiments/ds0_v1/'\n",
    "print(\"* of Images in train: \",len(train_df.filename.unique()))\n",
    "print(\"* of Images in test: \",len(test_df.filename.unique()))\n",
    "print(\"* of Images in val: \",len(val_df.filename.unique()))"
   ]
  },
  {
   "cell_type": "code",
   "execution_count": 71,
   "metadata": {},
   "outputs": [
    {
     "name": "stdout",
     "output_type": "stream",
     "text": [
      "classes for training:  ['clearCup', 'coffeeCup', 'ms_utincles']\n",
      "3\n"
     ]
    }
   ],
   "source": [
    "df_even_df_final.to_csv(csv_path + \"ds0_v1_dataset_052420.csv\")\n",
    "train_df.reset_index().to_csv(csv_path + \"train_labels.csv\")\n",
    "test_df.reset_index().to_csv(csv_path + \"test_labels.csv\")\n",
    "val_df.reset_index().to_csv(csv_path + \"val_labels.csv\")\n",
    "\n",
    "print(\"classes for training: \", sorted(list(df_even_df_final[\"class\"].unique()), reverse=False))\n",
    "\n",
    "num_classes = len(df_even_df_final[\"class\"].unique())\n",
    "print(num_classes)"
   ]
  },
  {
   "cell_type": "code",
   "execution_count": 87,
   "metadata": {},
   "outputs": [],
   "source": [
    "tr2= train_df[['filename', 'bbox', 'width', 'height']]\n",
    "tr2.rename(columns={'filename':'imgname','bbox':'bboxes'}, inplace=True)\n",
    "tr2.reset_index().to_csv(\"./\" + \"tr_label.csv\", index=False)"
   ]
  },
  {
   "cell_type": "code",
   "execution_count": 88,
   "metadata": {},
   "outputs": [],
   "source": [
    "test2= test_df[['filename', 'bbox', 'width', 'height']]\n",
    "test2.rename(columns={'filename':'imgname','bbox':'bboxes'}, inplace=True)\n",
    "test2.reset_index().to_csv(\"./\" + \"atest_label.csv\", index=False)"
   ]
  },
  {
   "cell_type": "code",
   "execution_count": 89,
   "metadata": {},
   "outputs": [],
   "source": [
    "val2= val_df[['filename', 'bbox', 'width', 'height']]\n",
    "val2.rename(columns={'filename':'imgname','bbox':'bboxes'}, inplace=True)\n",
    "val2.reset_index().to_csv(\"./\" + \"aval_label.csv\", index=False)"
   ]
  },
  {
   "cell_type": "code",
   "execution_count": 96,
   "metadata": {},
   "outputs": [
    {
     "ename": "AttributeError",
     "evalue": "'str' object has no attribute 'values'",
     "output_type": "error",
     "traceback": [
      "\u001b[0;31m---------------------------------------------------------------------------\u001b[0m",
      "\u001b[0;31mAttributeError\u001b[0m                            Traceback (most recent call last)",
      "\u001b[0;32m<ipython-input-96-957225110753>\u001b[0m in \u001b[0;36m<module>\u001b[0;34m\u001b[0m\n\u001b[1;32m      1\u001b[0m \u001b[0;32mimport\u001b[0m \u001b[0mnumpy\u001b[0m \u001b[0;32mas\u001b[0m \u001b[0mnp\u001b[0m\u001b[0;34m\u001b[0m\u001b[0;34m\u001b[0m\u001b[0m\n\u001b[0;32m----> 2\u001b[0;31m \u001b[0mnp\u001b[0m\u001b[0;34m.\u001b[0m\u001b[0marray\u001b[0m\u001b[0;34m(\u001b[0m\u001b[0mtr2\u001b[0m\u001b[0;34m.\u001b[0m\u001b[0mbboxes\u001b[0m\u001b[0;34m[\u001b[0m\u001b[0;36m24\u001b[0m\u001b[0;34m]\u001b[0m\u001b[0;34m.\u001b[0m\u001b[0mvalues\u001b[0m\u001b[0;34m)\u001b[0m\u001b[0;34m\u001b[0m\u001b[0;34m\u001b[0m\u001b[0m\n\u001b[0m",
      "\u001b[0;31mAttributeError\u001b[0m: 'str' object has no attribute 'values'"
     ]
    }
   ],
   "source": [
    "import numpy as np\n",
    "np.array(tr2.bboxes[24].values)"
   ]
  },
  {
   "cell_type": "code",
   "execution_count": 82,
   "metadata": {},
   "outputs": [
    {
     "data": {
      "text/html": [
       "<div>\n",
       "<style scoped>\n",
       "    .dataframe tbody tr th:only-of-type {\n",
       "        vertical-align: middle;\n",
       "    }\n",
       "\n",
       "    .dataframe tbody tr th {\n",
       "        vertical-align: top;\n",
       "    }\n",
       "\n",
       "    .dataframe thead th {\n",
       "        text-align: right;\n",
       "    }\n",
       "</style>\n",
       "<table border=\"1\" class=\"dataframe\">\n",
       "  <thead>\n",
       "    <tr style=\"text-align: right;\">\n",
       "      <th></th>\n",
       "      <th>id</th>\n",
       "      <th>rect</th>\n",
       "      <th>pixels</th>\n",
       "      <th>xmin</th>\n",
       "      <th>ymin</th>\n",
       "      <th>xmax</th>\n",
       "      <th>ymax</th>\n",
       "      <th>bbox</th>\n",
       "      <th>filename</th>\n",
       "      <th>height</th>\n",
       "      <th>width</th>\n",
       "      <th>iter_num</th>\n",
       "      <th>camera_scene</th>\n",
       "      <th>shape_id</th>\n",
       "      <th>class</th>\n",
       "    </tr>\n",
       "  </thead>\n",
       "  <tbody>\n",
       "    <tr>\n",
       "      <th>24</th>\n",
       "      <td>0</td>\n",
       "      <td>[825, 17, 51, 79]</td>\n",
       "      <td>652</td>\n",
       "      <td>825</td>\n",
       "      <td>17</td>\n",
       "      <td>876</td>\n",
       "      <td>96</td>\n",
       "      <td>[825, 17, 51, 79]</td>\n",
       "      <td>iter102_InstanceGroup2Desccamera_0camera_Shape...</td>\n",
       "      <td>1080</td>\n",
       "      <td>1920</td>\n",
       "      <td>iter102</td>\n",
       "      <td>0camera</td>\n",
       "      <td>Shape0</td>\n",
       "      <td>ms_utincles</td>\n",
       "    </tr>\n",
       "    <tr>\n",
       "      <th>25</th>\n",
       "      <td>1</td>\n",
       "      <td>[1199, 24, 218, 170]</td>\n",
       "      <td>27251</td>\n",
       "      <td>1199</td>\n",
       "      <td>24</td>\n",
       "      <td>1417</td>\n",
       "      <td>194</td>\n",
       "      <td>[1199, 24, 218, 170]</td>\n",
       "      <td>iter102_InstanceGroup2Desccamera_0camera_Shape...</td>\n",
       "      <td>1080</td>\n",
       "      <td>1920</td>\n",
       "      <td>iter102</td>\n",
       "      <td>0camera</td>\n",
       "      <td>Shape0</td>\n",
       "      <td>coffeeCup</td>\n",
       "    </tr>\n",
       "    <tr>\n",
       "      <th>26</th>\n",
       "      <td>2</td>\n",
       "      <td>[994, 332, 205, 153]</td>\n",
       "      <td>22963</td>\n",
       "      <td>994</td>\n",
       "      <td>332</td>\n",
       "      <td>1199</td>\n",
       "      <td>485</td>\n",
       "      <td>[994, 332, 205, 153]</td>\n",
       "      <td>iter102_InstanceGroup2Desccamera_0camera_Shape...</td>\n",
       "      <td>1080</td>\n",
       "      <td>1920</td>\n",
       "      <td>iter102</td>\n",
       "      <td>0camera</td>\n",
       "      <td>Shape0</td>\n",
       "      <td>coffeeCup</td>\n",
       "    </tr>\n",
       "    <tr>\n",
       "      <th>27</th>\n",
       "      <td>3</td>\n",
       "      <td>[739, 534, 94, 65]</td>\n",
       "      <td>2000</td>\n",
       "      <td>739</td>\n",
       "      <td>534</td>\n",
       "      <td>833</td>\n",
       "      <td>599</td>\n",
       "      <td>[739, 534, 94, 65]</td>\n",
       "      <td>iter102_InstanceGroup2Desccamera_0camera_Shape...</td>\n",
       "      <td>1080</td>\n",
       "      <td>1920</td>\n",
       "      <td>iter102</td>\n",
       "      <td>0camera</td>\n",
       "      <td>Shape0</td>\n",
       "      <td>ms_utincles</td>\n",
       "    </tr>\n",
       "    <tr>\n",
       "      <th>28</th>\n",
       "      <td>4</td>\n",
       "      <td>[1184, 55, 101, 14]</td>\n",
       "      <td>980</td>\n",
       "      <td>1184</td>\n",
       "      <td>55</td>\n",
       "      <td>1285</td>\n",
       "      <td>69</td>\n",
       "      <td>[1184, 55, 101, 14]</td>\n",
       "      <td>iter102_InstanceGroup2Desccamera_0camera_Shape...</td>\n",
       "      <td>1080</td>\n",
       "      <td>1920</td>\n",
       "      <td>iter102</td>\n",
       "      <td>0camera</td>\n",
       "      <td>Shape0</td>\n",
       "      <td>ms_utincles</td>\n",
       "    </tr>\n",
       "  </tbody>\n",
       "</table>\n",
       "</div>"
      ],
      "text/plain": [
       "    id                  rect  pixels  xmin  ymin  xmax  ymax  \\\n",
       "24   0     [825, 17, 51, 79]     652   825    17   876    96   \n",
       "25   1  [1199, 24, 218, 170]   27251  1199    24  1417   194   \n",
       "26   2  [994, 332, 205, 153]   22963   994   332  1199   485   \n",
       "27   3    [739, 534, 94, 65]    2000   739   534   833   599   \n",
       "28   4   [1184, 55, 101, 14]     980  1184    55  1285    69   \n",
       "\n",
       "                    bbox                                           filename  \\\n",
       "24     [825, 17, 51, 79]  iter102_InstanceGroup2Desccamera_0camera_Shape...   \n",
       "25  [1199, 24, 218, 170]  iter102_InstanceGroup2Desccamera_0camera_Shape...   \n",
       "26  [994, 332, 205, 153]  iter102_InstanceGroup2Desccamera_0camera_Shape...   \n",
       "27    [739, 534, 94, 65]  iter102_InstanceGroup2Desccamera_0camera_Shape...   \n",
       "28   [1184, 55, 101, 14]  iter102_InstanceGroup2Desccamera_0camera_Shape...   \n",
       "\n",
       "    height  width iter_num camera_scene shape_id        class  \n",
       "24    1080   1920  iter102      0camera   Shape0  ms_utincles  \n",
       "25    1080   1920  iter102      0camera   Shape0    coffeeCup  \n",
       "26    1080   1920  iter102      0camera   Shape0    coffeeCup  \n",
       "27    1080   1920  iter102      0camera   Shape0  ms_utincles  \n",
       "28    1080   1920  iter102      0camera   Shape0  ms_utincles  "
      ]
     },
     "execution_count": 82,
     "metadata": {},
     "output_type": "execute_result"
    }
   ],
   "source": [
    "train_df.head()"
   ]
  },
  {
   "cell_type": "markdown",
   "metadata": {},
   "source": [
    "```python\n",
    "def class_text_to_int(row_label):\n",
    "    if row_label == 'clearCup':\n",
    "        return 1\n",
    "    elif row_label == 'coffeeCup':\n",
    "        return 2\n",
    "    elif row_label == 'ms_utincles':\n",
    "        return 3\n",
    "    else:\n",
    "```"
   ]
  },
  {
   "cell_type": "markdown",
   "metadata": {},
   "source": [
    "#### Labelmap\n",
    "\n",
    "```json\n",
    "item {\n",
    "  id:1\n",
    "  name:'clearCup'\n",
    "}\n",
    "item {\n",
    "  id:2\n",
    "  name:'cofafeeCup'\n",
    "}\n",
    "item {\n",
    "  id:3\n",
    "  name:'ms_utincles'\n",
    "}\n",
    "```"
   ]
  },
  {
   "cell_type": "code",
   "execution_count": 72,
   "metadata": {},
   "outputs": [
    {
     "data": {
      "image/png": "[encoded data removed]",
      "text/plain": [
       "<Figure size 432x288 with 1 Axes>"
      ]
     },
     "metadata": {
      "needs_background": "light"
     },
     "output_type": "display_data"
    }
   ],
   "source": [
    "plt.hist([\n",
    "        train_df['class'], \n",
    "        test_df['class'], \n",
    "        test_df['class']\n",
    "        ], \n",
    "        stacked=True, \n",
    "        label=[\"train\", \"test\", \"val\"],\n",
    "        bins=num_classes\n",
    "    )\n",
    "\n",
    "plt.show()"
   ]
  },
  {
   "cell_type": "code",
   "execution_count": 73,
   "metadata": {},
   "outputs": [
    {
     "name": "stdout",
     "output_type": "stream",
     "text": [
      "Total files that contains more than 10 object in image: 240\n"
     ]
    },
    {
     "data": {
      "image/png": "[encoded data removed]",
      "text/plain": [
       "<Figure size 432x288 with 1 Axes>"
      ]
     },
     "metadata": {
      "needs_background": "light"
     },
     "output_type": "display_data"
    }
   ],
   "source": [
    "min_obj_num_in_image = 10\n",
    "filename_count = df_even_df_final['filename'].value_counts().reset_index()\n",
    "filename_count.rename(columns={'filename':'file_obj_count','index':'filename'}, inplace=True)\n",
    "\n",
    "sns.countplot(x=\"file_obj_count\", data=filename_count[filename_count.file_obj_count > min_obj_num_in_image])\n",
    "total_min_obj_count = len(filename_count[filename_count.file_obj_count > min_obj_num_in_image])\n",
    "print(f'Total files that contains more than {min_obj_num_in_image} object in image: {total_min_obj_count}')"
   ]
  },
  {
   "cell_type": "markdown",
   "metadata": {},
   "source": [
    "# TFRecord Generation"
   ]
  },
  {
   "cell_type": "markdown",
   "metadata": {},
   "source": [
    "```\n",
    "\n",
    "\n",
    "sudo mkdir /mnt/blobfusetmp \n",
    "sudo chown $USER /mnt/blobfusetmp \n",
    "blobfuse ~/ZeroWaste/mnt/zerowaste_blob --tmp-path=/mnt/blobfusetmp  --config-file=/home/$USER/ZeroWaste/mnt/zerowaste_blob_connection.cfg -o attr_timeout=240 -o entry_timeout=240 -o negative_timeout=120 -o allow_other \n",
    "\n",
    "#redne@wakanda:~ \n",
    "sh mount_fileshare.sh\n",
    "\n",
    "nvidia-docker run -it -v /home/$USER/ZeroWaste:/ZeroWaste -p 8888:8888 -p 6006:6006 tensorflow/tensorflow:1.12.0-gpu-py3 bash\n",
    "\n",
    "pip3 install tqdm\n",
    "\n",
    "cd /ZeroWaste/training\n",
    "echo \"export PYTHONPATH=$(pwd)/models:$(pwd)/models/research:$(pwd)/models/research/slim:$(pwd)/cocoapi/PythonAPI\" >> ~/.bashrc\n",
    "cd models/research/\n",
    "export PYTHONPATH=$PYTHONPATH:`pwd`:`pwd`/slim\n",
    "cd /ZeroWaste\n",
    "\n",
    "cd /ZeroWaste/training/models/research/\n",
    "\n",
    "# pullsing images from fileshare mount\n",
    "\n",
    "python generate_tfrecord_custom.py --csv_input=/ZeroWaste/mnt/zerowaste_blob/project_zero/experiments/ds01_v1/train_labels.csv --image_dir=/ZeroWaste/mnt/zerowasteimages/project_zero/ds1/parsed/ --output_path=/ZeroWaste/mnt/zerowaste_blob/project_zero/experiments/ds01_v1/train.tfrecord\n",
    "\n",
    "python generate_tfrecord_custom.py --csv_input=/ZeroWaste/mnt/zerowaste_blob/project_zero/experiments/ds01_v1/test_labels.csv --image_dir=/ZeroWaste/mnt/zerowasteimages/project_zero/ds1/parsed/ --output_path=/ZeroWaste/mnt/zerowaste_blob/project_zero/experiments/ds01_v1/test.tfrecord\n",
    "\n",
    "python generate_tfrecord_custom.py --csv_input=/ZeroWaste/mnt/zerowaste_blob/project_zero/experiments/ds01_v1/val_labels.csv --image_dir=/ZeroWaste/mnt/zerowasteimages/project_zero/ds1/parsed/ --output_path=/ZeroWaste/mnt/zerowaste_blob/project_zero/experiments/ds01_v1/val.tfrecord\n",
    "```"
   ]
  },
  {
   "cell_type": "markdown",
   "metadata": {},
   "source": [
    "---\n",
    "### DS01_v1\n",
    "\n",
    "root@2949a956ca19:/ZeroWaste/training/models/research# python generate_tfrecord_custom.py --csv_input=/ZeroWaste/mnt/zerowaste_blob/project_zero/experiments/ds01_v1/train_labels.csv --image_dir=/ZeroWaste/mnt/zerowasteimages/project_zero/ds1/parsed/ --output_path=/ZeroWaste/mnt/zerowaste_blob/project_zero/experiments/ds01_v1/train.tfrecord\n",
    "Successfully created the TFRecords: /ZeroWaste/mnt/zerowaste_blob/project_zero/experiments/ds01_v1/train.tfrecord. Number of examples included is 337.\n",
    "\n",
    "\n",
    "Successfully created the TFRecords: /ZeroWaste/mnt/zerowaste_blob/project_zero/experiments/ds01_v1/test.tfrecord. Number of examples included is 125.\n",
    "\n",
    "\n",
    "Successfully created the TFRecords: /ZeroWaste/mnt/zerowaste_blob/project_zero/experiments/ds01_v1/val.tfrecord. Number of examples included is 38."
   ]
  },
  {
   "cell_type": "markdown",
   "metadata": {},
   "source": [
    "---\n",
    "### DS0_v1\n",
    "\n",
    "root@2949a956ca19:/ZeroWaste/training/models/research# python generate_tfrecord_custom.py --csv_input=/ZeroWaste/mnt/zerowaste_blob/project_zero/experiments/ds0_v1/train_labels.csv --image_dir=/ZeroWaste/mnt/zerowasteimages/project_zero/ds1/parsed/ --output_path=/ZeroWaste/mnt/zerowaste_blob/project_zero/experiments/ds0_v1/train.tfrecord\n",
    "Creating tfrecord examples for 337 images, with 3944 bounding box annotations.\n",
    "100%|#########################################################################################################################################################################################| 337/337 [00:24<00:00, 13.96it/s]\n",
    "Successfully created the TFRecords: /ZeroWaste/mnt/zerowaste_blob/project_zero/experiments/ds0_v1/train.tfrecord. Number of examples included is 337.\n",
    "\n",
    "\n",
    "\n",
    "Creating tfrecord examples for 125 images, with 1539 bounding box annotations.\n",
    "Successfully created the TFRecords: /ZeroWaste/mnt/zerowaste_blob/project_zero/experiments/ds0_v1/test.tfrecord. Number of examples included is 125.\n",
    "\n",
    "\n",
    "Creating tfrecord examples for 38 images, with 447 bounding box annotations.\n",
    "Successfully created the TFRecords: /ZeroWaste/mnt/zerowaste_blob/project_zero/experiments/ds0_v1/val.tfrecord. Number of examples included is 38."
   ]
  },
  {
   "cell_type": "code",
   "execution_count": null,
   "metadata": {},
   "outputs": [],
   "source": []
  },
  {
   "cell_type": "code",
   "execution_count": null,
   "metadata": {},
   "outputs": [],
   "source": []
  },
  {
   "cell_type": "code",
   "execution_count": null,
   "metadata": {},
   "outputs": [],
   "source": []
  },
  {
   "cell_type": "code",
   "execution_count": null,
   "metadata": {},
   "outputs": [],
   "source": []
  },
  {
   "cell_type": "code",
   "execution_count": null,
   "metadata": {},
   "outputs": [],
   "source": []
  },
  {
   "cell_type": "code",
   "execution_count": null,
   "metadata": {},
   "outputs": [],
   "source": []
  },
  {
   "cell_type": "code",
   "execution_count": null,
   "metadata": {},
   "outputs": [],
   "source": []
  }
 ],
 "metadata": {
  "kernelspec": {
   "display_name": "cv",
   "language": "python",
   "name": "cv"
  },
  "language_info": {
   "codemirror_mode": {
    "name": "ipython",
    "version": 3
   },
   "file_extension": ".py",
   "mimetype": "text/x-python",
   "name": "python",
   "nbconvert_exporter": "python",
   "pygments_lexer": "ipython3",
   "version": "3.7.6"
  }
 },
 "nbformat": 4,
 "nbformat_minor": 4
}
