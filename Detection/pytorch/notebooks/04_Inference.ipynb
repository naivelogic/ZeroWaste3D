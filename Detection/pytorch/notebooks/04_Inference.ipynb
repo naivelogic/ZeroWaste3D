{
 "cells": [
  {
   "cell_type": "code",
   "execution_count": 6,
   "metadata": {},
   "outputs": [
    {
     "name": "stdout",
     "output_type": "stream",
     "text": [
      "The autoreload extension is already loaded. To reload it, use:\n",
      "  %reload_ext autoreload\n",
      "1.5.0\n",
      "0.6.0a0+82fd1c8\n"
     ]
    }
   ],
   "source": [
    "%load_ext autoreload\n",
    "%autoreload 2\n",
    "\n",
    "import sys, os, cv2\n",
    "sys.path.append(\"../\") # go to parent dir\n",
    "\n",
    "import warnings\n",
    "warnings.filterwarnings(\"ignore\")\n",
    "\n",
    "# version\n",
    "import torch\n",
    "import torchvision\n",
    "print(torch.__version__)\n",
    "print(torchvision.__version__)\n",
    "\n",
    "from models.base_cfg import ssd300_cfg as cfg\n",
    "import numpy as np\n",
    "import matplotlib.pyplot as plt \n",
    "%matplotlib inline"
   ]
  },
  {
   "cell_type": "code",
   "execution_count": 7,
   "metadata": {},
   "outputs": [
    {
     "data": {
      "text/plain": [
       "{'num_classes': 6,\n",
       " 'input_size': 300,\n",
       " 'base': 300,\n",
       " 'base_model': 'vgg16_reducedfc.pth',\n",
       " 'bbox_aspect_num': [4, 6, 6, 6, 4, 4],\n",
       " 'feature_maps': [38, 19, 10, 5, 3, 1],\n",
       " 'steps': [8, 16, 32, 64, 100, 300],\n",
       " 'min_sizes': [30, 60, 111, 162, 213, 264],\n",
       " 'max_sizes': [60, 111, 162, 213, 264, 315],\n",
       " 'aspect_ratios': [[2], [2, 3], [2, 3], [2, 3], [2], [2]],\n",
       " 'cuda': True,\n",
       " 'train_labeled_file': '/home/redne/mnt/project_zero/project_zero/ds1/experiments/data/train_labels_dev.npy',\n",
       " 'val_labeled_file': '/home/redne/mnt/project_zero/project_zero/ds1/experiments/data/val_labels_dev.npy',\n",
       " 'img_dir': '/home/redne/mnt/project_zero/project_zero/ds1/parsed/',\n",
       " 'logs': 'checkpoints/logs.txt',\n",
       " 'color_mean': (104, 117, 123),\n",
       " 'variance': ([0.1, 0.2],)}"
      ]
     },
     "execution_count": 7,
     "metadata": {},
     "output_type": "execute_result"
    }
   ],
   "source": [
    "cfg"
   ]
  },
  {
   "cell_type": "code",
   "execution_count": 8,
   "metadata": {},
   "outputs": [
    {
     "name": "stdout",
     "output_type": "stream",
     "text": [
      "total 264M\n",
      "-rwxrwxrwx 1 root root 93M May 31 20:27 dev2_ssd300_10_053120.pth\n",
      "-rwxrwxrwx 1 root root 93M May 31 19:41 dev_ssd300_10_053120.pth\n",
      "-rwxrwxrwx 1 root root 79M May 31 12:37 vgg16_reducedfc.pth\n"
     ]
    }
   ],
   "source": [
    "!ls -lh '/home/redne/mnt/project_zero/pytorch/weights/'"
   ]
  },
  {
   "cell_type": "code",
   "execution_count": 9,
   "metadata": {},
   "outputs": [
    {
     "name": "stdout",
     "output_type": "stream",
     "text": [
      "total 8.0K\n",
      "-rw-rw-r-- 1 redne redne  81 Jun  1 12:21 log_output_dev3_060120.csv\n",
      "-rw-rw-r-- 1 redne redne 340 May 31 20:29 log_output_dev_053120.csv\n"
     ]
    }
   ],
   "source": [
    "!ls -lh '../outputs/'"
   ]
  },
  {
   "cell_type": "code",
   "execution_count": 18,
   "metadata": {},
   "outputs": [
    {
     "data": {
      "image/png": "[encoded data removed]",
      "text/plain": [
       "<Figure size 432x288 with 1 Axes>"
      ]
     },
     "metadata": {
      "needs_background": "light"
     },
     "output_type": "display_data"
    }
   ],
   "source": [
    "import matplotlib.pyplot as plt\n",
    "import pandas as pd\n",
    "\n",
    "\n",
    "data = pd.read_csv(\"../outputs/log_output_dev3_060120.csv\",encoding = 'UTF8')\n",
    "\n",
    "plt.plot(data['epoch'],data['train_loss'], marker='o', label='train_loss')\n",
    "plt.plot(data['epoch'][9:50:10],data['val_loss'][9:50:10], marker='o',label=\"val_loss\")\n",
    "plt.xlabel('epoch')\n",
    "plt.ylabel('loss')\n",
    "plt.legend()\n",
    "plt.show()"
   ]
  },
  {
   "cell_type": "code",
   "execution_count": null,
   "metadata": {},
   "outputs": [],
   "source": []
  },
  {
   "cell_type": "code",
   "execution_count": null,
   "metadata": {},
   "outputs": [],
   "source": []
  },
  {
   "cell_type": "code",
   "execution_count": null,
   "metadata": {},
   "outputs": [],
   "source": []
  },
  {
   "cell_type": "code",
   "execution_count": null,
   "metadata": {},
   "outputs": [],
   "source": []
  },
  {
   "cell_type": "code",
   "execution_count": null,
   "metadata": {},
   "outputs": [],
   "source": []
  },
  {
   "cell_type": "code",
   "execution_count": null,
   "metadata": {},
   "outputs": [],
   "source": []
  },
  {
   "cell_type": "code",
   "execution_count": null,
   "metadata": {},
   "outputs": [],
   "source": []
  },
  {
   "cell_type": "code",
   "execution_count": null,
   "metadata": {},
   "outputs": [],
   "source": []
  }
 ],
 "metadata": {
  "kernelspec": {
   "display_name": "cv",
   "language": "python",
   "name": "cv"
  },
  "language_info": {
   "codemirror_mode": {
    "name": "ipython",
    "version": 3
   },
   "file_extension": ".py",
   "mimetype": "text/x-python",
   "name": "python",
   "nbconvert_exporter": "python",
   "pygments_lexer": "ipython3",
   "version": "3.7.6"
  }
 },
 "nbformat": 4,
 "nbformat_minor": 4
}
