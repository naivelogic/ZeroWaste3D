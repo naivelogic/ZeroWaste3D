{
 "cells": [
  {
   "cell_type": "code",
   "execution_count": 2,
   "metadata": {},
   "outputs": [
    {
     "name": "stdout",
     "output_type": "stream",
     "text": [
      "The autoreload extension is already loaded. To reload it, use:\n",
      "  %reload_ext autoreload\n"
     ]
    }
   ],
   "source": [
    "%load_ext autoreload\n",
    "%autoreload 2\n",
    "\n",
    "from utils.yfcos_utils import *\n",
    "\n"
   ]
  },
  {
   "cell_type": "code",
   "execution_count": 3,
   "metadata": {},
   "outputs": [
    {
     "name": "stdout",
     "output_type": "stream",
     "text": [
      "\n",
      "Metadata Catalog from custom dataset:\n",
      "Metadata(evaluator_type='coco', image_root='/mnt/zerowastepublic/02-datasets/ds2/images', json_file='/mnt/zerowastepublic/02-datasets/ds2/dataset_config/ds2_3c_test_coco_instances.json', name='custom_dataset_test', thing_classes=['utensils', 'coffeeCup', 'clearCup'], thing_dataset_id_to_contiguous_id={1: 0, 2: 1, 3: 2})\n"
     ]
    }
   ],
   "source": [
    "ds_metadata, ds_dicts = register_datasets()"
   ]
  },
  {
   "cell_type": "code",
   "execution_count": 4,
   "metadata": {},
   "outputs": [
    {
     "name": "stderr",
     "output_type": "stream",
     "text": [
      "Config 'configs/Yolact/yfcos_ds2_r50_x08.yaml' has no VERSION. Assuming it to be compatible with latest v2.\n"
     ]
    },
    {
     "name": "stdout",
     "output_type": "stream",
     "text": [
      "MODEL WEIGHTS: /mnt/zerowastepublic/03-experiments/ds2/yolact_fcos/yfcos_ds2_r50_x08/model_final.pth\n",
      "\n",
      "MODEL HEADS\n",
      "\n",
      "BATCH_SIZE_PER_IMAGE: 512\n",
      "IN_FEATURES: ['res4']\n",
      "IOU_LABELS: [0, 1]\n",
      "IOU_THRESHOLDS: [0.5]\n",
      "NAME: Res5ROIHeads\n",
      "NMS_THRESH_TEST: 0.5\n",
      "NUM_CLASSES: 80\n",
      "POSITIVE_FRACTION: 0.25\n",
      "PROPOSAL_APPEND_GT: True\n",
      "SCORE_THRESH_TEST: 0.05\n",
      "\n",
      "\n",
      "MODEL DATASETS\n",
      "\n",
      "PRECOMPUTED_PROPOSAL_TOPK_TEST: 1000\n",
      "PRECOMPUTED_PROPOSAL_TOPK_TRAIN: 2000\n",
      "PROPOSAL_FILES_TEST: ()\n",
      "PROPOSAL_FILES_TRAIN: ()\n",
      "TEST: ('custom_dataset_val',)\n",
      "TRAIN: ('custom_dataset_train',)\n"
     ]
    }
   ],
   "source": [
    "#mymodel = 'yfcos_ds2_r101_x02'\n",
    "mymodel = 'yfcos_ds2_r50_x08'\n",
    "yfmnt = f'/mnt/zerowastepublic/03-experiments/ds2/yolact_fcos/{mymodel}/'\n",
    "MODLE_PATH = os.path.join(yfmnt, 'model_final.pth')\n",
    "MODLE_CFG_PATH = os.path.join(yfmnt, 'config.yaml')\n",
    "METRICS_FILE = os.path.join(yfmnt, 'metrics.json')\n",
    "\n",
    "\n",
    "cfg, predictor = setup_model(mymodel, MODLE_PATH)"
   ]
  },
  {
   "cell_type": "code",
   "execution_count": null,
   "metadata": {},
   "outputs": [],
   "source": [
    "#predictor.model.head\n",
    "#predictor.model.backbone"
   ]
  },
  {
   "cell_type": "code",
   "execution_count": null,
   "metadata": {},
   "outputs": [],
   "source": [
    "from detectron2.modeling import build_model\n",
    "model = build_model(cfg)\n",
    "\n",
    "#from detectron2.modeling import GeneralizedRCNNWithTTA\n",
    "#model = GeneralizedRCNNWithTTA(cfg, model)"
   ]
  },
  {
   "cell_type": "code",
   "execution_count": 16,
   "metadata": {},
   "outputs": [
    {
     "name": "stderr",
     "output_type": "stream",
     "text": [
      "No predictions from the model! Set scores to -1\n",
      "No predictions from the model! Set scores to -1\n"
     ]
    },
    {
     "data": {
      "text/plain": [
       "OrderedDict([('bbox',\n",
       "              {'AP': -1,\n",
       "               'AP50': -1,\n",
       "               'AP75': -1,\n",
       "               'APs': -1,\n",
       "               'APm': -1,\n",
       "               'APl': -1}),\n",
       "             ('segm',\n",
       "              {'AP': -1,\n",
       "               'AP50': -1,\n",
       "               'AP75': -1,\n",
       "               'APs': -1,\n",
       "               'APm': -1,\n",
       "               'APl': -1})])"
      ]
     },
     "execution_count": 16,
     "metadata": {},
     "output_type": "execute_result"
    }
   ],
   "source": [
    "from detectron2.evaluation import COCOEvaluator, inference_on_dataset\n",
    "from detectron2.data import build_detection_test_loader\n",
    "evaluator = COCOEvaluator(\"custom_dataset_val\", cfg, False, output_dir=\"/home/redne/notebooks/output/\")\n",
    "val_loader = build_detection_test_loader(cfg, \"custom_dataset_val\")\n",
    "inference_on_dataset(model, val_loader, evaluator)"
   ]
  },
  {
   "cell_type": "code",
   "execution_count": null,
   "metadata": {},
   "outputs": [],
   "source": [
    "#!zip -q -r output.zip output\n",
    "#shutil.copyfile('output.zip', '/content/drive/My Drive/result/output.zip')"
   ]
  },
  {
   "cell_type": "code",
   "execution_count": null,
   "metadata": {},
   "outputs": [],
   "source": []
  },
  {
   "cell_type": "code",
   "execution_count": null,
   "metadata": {},
   "outputs": [],
   "source": []
  },
  {
   "cell_type": "code",
   "execution_count": 8,
   "metadata": {},
   "outputs": [],
   "source": [
    "import numpy as np"
   ]
  },
  {
   "cell_type": "code",
   "execution_count": 10,
   "metadata": {},
   "outputs": [
    {
     "data": {
      "text/plain": [
       "20000"
      ]
     },
     "execution_count": 10,
     "metadata": {},
     "output_type": "execute_result"
    }
   ],
   "source": [
    "cfg.SOLVER.MAX_ITER"
   ]
  },
  {
   "cell_type": "code",
   "execution_count": 12,
   "metadata": {},
   "outputs": [
    {
     "data": {
      "image/png": "[encoded data removed]",
      "text/plain": [
       "<Figure size 720x720 with 1 Axes>"
      ]
     },
     "metadata": {
      "needs_background": "light"
     },
     "output_type": "display_data"
    }
   ],
   "source": [
    "# https://github.com/JoanFM/M5_VisualRecognition/blob/master/Week6/TaskB/src/experiment_1.py\n",
    "#def plot_validation_loss(cfg, iterations, model_name, savepath, filename):\n",
    "model_name = \"test_\"\n",
    "filename = 'validation_loss.png'\n",
    "savepath  =\"/home/redne/notebooks/\"\n",
    "iterations = cfg.SOLVER.MAX_ITER\n",
    "val_loss = []\n",
    "train_loss = []\n",
    "for line in open(METRICS_FILE, 'r'):\n",
    "    result = json.loads(line)\n",
    "    if 'total_val_loss' in result.keys() and 'total_loss' in result.keys():\n",
    "        val_loss.append(result['total_val_loss'])\n",
    "        train_loss.append(result['total_loss'])\n",
    "val_idx = [int(item) for item in list(np.linspace(0, iterations, len(val_loss)))]\n",
    "train_idx = [int(item) for item in list(np.linspace(0, iterations, len(train_loss)))]\n",
    "\n",
    "plt.figure(figsize=(10, 10))\n",
    "plt.plot(val_idx,val_loss, label='Validation Loss')\n",
    "plt.plot(train_idx,train_loss, label='Training Loss')\n",
    "plt.title('Validation Loss for model ' + '{0}'.format(model_name))\n",
    "plt.xlabel('Iterations')\n",
    "plt.ylabel('Validation Loss')\n",
    "plt.grid('True')\n",
    "plt.legend()\n",
    "plt.savefig(os.path.join(savepath, filename))"
   ]
  },
  {
   "cell_type": "code",
   "execution_count": 17,
   "metadata": {},
   "outputs": [
    {
     "data": {
      "text/plain": [
       "{'data_time': 0.0065533440065337345,\n",
       " 'eta_seconds': 75.15423759885016,\n",
       " 'iteration': 19979,\n",
       " 'loss_fcos_cls': 0.001449436298571527,\n",
       " 'loss_fcos_ctr': 0.5844207108020782,\n",
       " 'loss_fcos_loc': 0.02412377018481493,\n",
       " 'loss_mask': 0.008787753991782665,\n",
       " 'lr': 2.5000000000000005e-08,\n",
       " 'time': 3.5934926730042207,\n",
       " 'total_loss': 0.6194688804098405}"
      ]
     },
     "execution_count": 17,
     "metadata": {},
     "output_type": "execute_result"
    }
   ],
   "source": [
    "result"
   ]
  }
 ],
 "metadata": {
  "kernelspec": {
   "display_name": "dtron2",
   "language": "python",
   "name": "dtron2"
  },
  "language_info": {
   "codemirror_mode": {
    "name": "ipython",
    "version": 3
   },
   "file_extension": ".py",
   "mimetype": "text/x-python",
   "name": "python",
   "nbconvert_exporter": "python",
   "pygments_lexer": "ipython3",
   "version": "3.6.5"
  }
 },
 "nbformat": 4,
 "nbformat_minor": 4
}
