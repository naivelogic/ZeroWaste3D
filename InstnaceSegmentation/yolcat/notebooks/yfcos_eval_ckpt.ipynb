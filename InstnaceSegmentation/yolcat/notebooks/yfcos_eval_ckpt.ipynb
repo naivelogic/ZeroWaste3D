{
 "cells": [
  {
   "cell_type": "code",
   "execution_count": 1,
   "metadata": {},
   "outputs": [
    {
     "name": "stdout",
     "output_type": "stream",
     "text": [
      "\n",
      "Metadata Catalog from custom dataset:\n",
      "Metadata(evaluator_type='coco', image_root='/mnt/zerowastepublic/02-datasets/ds2/images', json_file='/mnt/zerowastepublic/02-datasets/ds2/dataset_config/ds2_3c_test_coco_instances.json', name='custom_dataset_test', thing_classes=['utensils', 'coffeeCup', 'clearCup'], thing_dataset_id_to_contiguous_id={1: 0, 2: 1, 3: 2})\n"
     ]
    }
   ],
   "source": [
    "%load_ext autoreload\n",
    "%autoreload 2\n",
    "\n",
    "from utils.yfcos_utils import *\n",
    "\n",
    "ds_metadata, ds_dicts = register_datasets()"
   ]
  },
  {
   "cell_type": "code",
   "execution_count": 2,
   "metadata": {},
   "outputs": [],
   "source": [
    "#mymodel = 'yfcos_ds2_r101_x02'\n",
    "mymodel = 'yfcos_ds2_r50_x08'\n",
    "yfmnt = f'/mnt/zerowastepublic/03-experiments/ds2/yolact_fcos/{mymodel}/'\n",
    "MODLE_PATH = os.path.join(yfmnt, 'model_final.pth')\n",
    "MODLE_CFG_PATH = os.path.join(yfmnt, 'config.yaml')\n",
    "METRICS_FILE = os.path.join(yfmnt, 'metrics.json')\n",
    "\n",
    "#cfg, predictor = setup_model(mymodel, MODLE_PATH)"
   ]
  },
  {
   "cell_type": "code",
   "execution_count": 3,
   "metadata": {},
   "outputs": [
    {
     "data": {
      "text/plain": [
       "['model_0004999.pth',\n",
       " 'model_0009999.pth',\n",
       " 'model_0014999.pth',\n",
       " 'model_0019999.pth',\n",
       " 'model_final.pth']"
      ]
     },
     "execution_count": 3,
     "metadata": {},
     "output_type": "execute_result"
    }
   ],
   "source": [
    "import glob\n",
    "model_checkpoint_path = glob.glob(yfmnt+\"model_*.pth\")\n",
    "#model_checkpoint_path\n",
    "\n",
    "\n",
    "checkpoints=[]\n",
    "[checkpoints.append(os.path.basename(checkpoint_path)) for checkpoint_path in model_checkpoint_path] \n",
    "checkpoints"
   ]
  },
  {
   "cell_type": "code",
   "execution_count": 4,
   "metadata": {},
   "outputs": [],
   "source": [
    "APs =[]\n",
    "AP50s = []\n",
    "AP75s = []"
   ]
  },
  {
   "cell_type": "code",
   "execution_count": 6,
   "metadata": {},
   "outputs": [],
   "source": [
    "from fcos.config import get_cfg\n",
    "from fcos.checkpoint import AdetCheckpointer\n",
    "\n",
    "from detectron2.modeling import build_model\n",
    "from detectron2.data import build_detection_test_loader\n",
    "from detectron2.evaluation import COCOEvaluator, inference_on_dataset\n"
   ]
  },
  {
   "cell_type": "code",
   "execution_count": 7,
   "metadata": {
    "scrolled": true
   },
   "outputs": [
    {
     "name": "stderr",
     "output_type": "stream",
     "text": [
      "Config 'configs/Yolact/yfcos_ds2_r50_x08.yaml' has no VERSION. Assuming it to be compatible with latest v2.\n"
     ]
    },
    {
     "name": "stdout",
     "output_type": "stream",
     "text": [
      "---------------------------------------  model_0004999.pth  ---------------------------------------------\n"
     ]
    },
    {
     "name": "stderr",
     "output_type": "stream",
     "text": [
      "Config 'configs/Yolact/yfcos_ds2_r50_x08.yaml' has no VERSION. Assuming it to be compatible with latest v2.\n"
     ]
    },
    {
     "name": "stdout",
     "output_type": "stream",
     "text": [
      "Loading and preparing results...\n",
      "DONE (t=0.00s)\n",
      "creating index...\n",
      "index created!\n",
      "Running per image evaluation...\n",
      "Evaluate annotation type *bbox*\n",
      "DONE (t=0.01s).\n",
      "Accumulating evaluation results...\n",
      "DONE (t=0.02s).\n",
      " Average Precision  (AP) @[ IoU=0.50:0.95 | area=   all | maxDets=100 ] = 0.743\n",
      " Average Precision  (AP) @[ IoU=0.50      | area=   all | maxDets=100 ] = 0.906\n",
      " Average Precision  (AP) @[ IoU=0.75      | area=   all | maxDets=100 ] = 0.866\n",
      " Average Precision  (AP) @[ IoU=0.50:0.95 | area= small | maxDets=100 ] = -1.000\n",
      " Average Precision  (AP) @[ IoU=0.50:0.95 | area=medium | maxDets=100 ] = 0.794\n",
      " Average Precision  (AP) @[ IoU=0.50:0.95 | area= large | maxDets=100 ] = 0.747\n",
      " Average Recall     (AR) @[ IoU=0.50:0.95 | area=   all | maxDets=  1 ] = 0.774\n",
      " Average Recall     (AR) @[ IoU=0.50:0.95 | area=   all | maxDets= 10 ] = 0.774\n",
      " Average Recall     (AR) @[ IoU=0.50:0.95 | area=   all | maxDets=100 ] = 0.774\n",
      " Average Recall     (AR) @[ IoU=0.50:0.95 | area= small | maxDets=100 ] = -1.000\n",
      " Average Recall     (AR) @[ IoU=0.50:0.95 | area=medium | maxDets=100 ] = 0.793\n",
      " Average Recall     (AR) @[ IoU=0.50:0.95 | area= large | maxDets=100 ] = 0.794\n",
      "Loading and preparing results...\n",
      "DONE (t=0.00s)\n",
      "creating index...\n",
      "index created!\n",
      "Running per image evaluation...\n",
      "Evaluate annotation type *segm*\n",
      "DONE (t=0.02s).\n",
      "Accumulating evaluation results...\n",
      "DONE (t=0.02s).\n",
      " Average Precision  (AP) @[ IoU=0.50:0.95 | area=   all | maxDets=100 ] = 0.594\n",
      " Average Precision  (AP) @[ IoU=0.50      | area=   all | maxDets=100 ] = 0.866\n",
      " Average Precision  (AP) @[ IoU=0.75      | area=   all | maxDets=100 ] = 0.629\n",
      " Average Precision  (AP) @[ IoU=0.50:0.95 | area= small | maxDets=100 ] = -1.000\n",
      " Average Precision  (AP) @[ IoU=0.50:0.95 | area=medium | maxDets=100 ] = 0.630\n",
      " Average Precision  (AP) @[ IoU=0.50:0.95 | area= large | maxDets=100 ] = 0.603\n",
      " Average Recall     (AR) @[ IoU=0.50:0.95 | area=   all | maxDets=  1 ] = 0.618\n",
      " Average Recall     (AR) @[ IoU=0.50:0.95 | area=   all | maxDets= 10 ] = 0.618\n",
      " Average Recall     (AR) @[ IoU=0.50:0.95 | area=   all | maxDets=100 ] = 0.618\n",
      " Average Recall     (AR) @[ IoU=0.50:0.95 | area= small | maxDets=100 ] = -1.000\n",
      " Average Recall     (AR) @[ IoU=0.50:0.95 | area=medium | maxDets=100 ] = 0.633\n",
      " Average Recall     (AR) @[ IoU=0.50:0.95 | area= large | maxDets=100 ] = 0.625\n",
      "---------------------------------------  model_0009999.pth  ---------------------------------------------\n"
     ]
    },
    {
     "name": "stderr",
     "output_type": "stream",
     "text": [
      "Config 'configs/Yolact/yfcos_ds2_r50_x08.yaml' has no VERSION. Assuming it to be compatible with latest v2.\n"
     ]
    },
    {
     "name": "stdout",
     "output_type": "stream",
     "text": [
      "Loading and preparing results...\n",
      "DONE (t=0.00s)\n",
      "creating index...\n",
      "index created!\n",
      "Running per image evaluation...\n",
      "Evaluate annotation type *bbox*\n",
      "DONE (t=0.02s).\n",
      "Accumulating evaluation results...\n",
      "DONE (t=0.02s).\n",
      " Average Precision  (AP) @[ IoU=0.50:0.95 | area=   all | maxDets=100 ] = 0.856\n",
      " Average Precision  (AP) @[ IoU=0.50      | area=   all | maxDets=100 ] = 0.952\n",
      " Average Precision  (AP) @[ IoU=0.75      | area=   all | maxDets=100 ] = 0.952\n",
      " Average Precision  (AP) @[ IoU=0.50:0.95 | area= small | maxDets=100 ] = -1.000\n",
      " Average Precision  (AP) @[ IoU=0.50:0.95 | area=medium | maxDets=100 ] = 0.900\n",
      " Average Precision  (AP) @[ IoU=0.50:0.95 | area= large | maxDets=100 ] = 0.850\n",
      " Average Recall     (AR) @[ IoU=0.50:0.95 | area=   all | maxDets=  1 ] = 0.869\n",
      " Average Recall     (AR) @[ IoU=0.50:0.95 | area=   all | maxDets= 10 ] = 0.869\n",
      " Average Recall     (AR) @[ IoU=0.50:0.95 | area=   all | maxDets=100 ] = 0.869\n",
      " Average Recall     (AR) @[ IoU=0.50:0.95 | area= small | maxDets=100 ] = -1.000\n",
      " Average Recall     (AR) @[ IoU=0.50:0.95 | area=medium | maxDets=100 ] = 0.900\n",
      " Average Recall     (AR) @[ IoU=0.50:0.95 | area= large | maxDets=100 ] = 0.870\n",
      "Loading and preparing results...\n",
      "DONE (t=0.00s)\n",
      "creating index...\n",
      "index created!\n",
      "Running per image evaluation...\n",
      "Evaluate annotation type *segm*\n",
      "DONE (t=0.02s).\n",
      "Accumulating evaluation results...\n",
      "DONE (t=0.02s).\n",
      " Average Precision  (AP) @[ IoU=0.50:0.95 | area=   all | maxDets=100 ] = 0.654\n",
      " Average Precision  (AP) @[ IoU=0.50      | area=   all | maxDets=100 ] = 0.912\n",
      " Average Precision  (AP) @[ IoU=0.75      | area=   all | maxDets=100 ] = 0.655\n",
      " Average Precision  (AP) @[ IoU=0.50:0.95 | area= small | maxDets=100 ] = -1.000\n",
      " Average Precision  (AP) @[ IoU=0.50:0.95 | area=medium | maxDets=100 ] = 0.632\n",
      " Average Precision  (AP) @[ IoU=0.50:0.95 | area= large | maxDets=100 ] = 0.672\n",
      " Average Recall     (AR) @[ IoU=0.50:0.95 | area=   all | maxDets=  1 ] = 0.675\n",
      " Average Recall     (AR) @[ IoU=0.50:0.95 | area=   all | maxDets= 10 ] = 0.675\n",
      " Average Recall     (AR) @[ IoU=0.50:0.95 | area=   all | maxDets=100 ] = 0.675\n",
      " Average Recall     (AR) @[ IoU=0.50:0.95 | area= small | maxDets=100 ] = -1.000\n",
      " Average Recall     (AR) @[ IoU=0.50:0.95 | area=medium | maxDets=100 ] = 0.633\n",
      " Average Recall     (AR) @[ IoU=0.50:0.95 | area= large | maxDets=100 ] = 0.695\n",
      "---------------------------------------  model_0014999.pth  ---------------------------------------------\n"
     ]
    },
    {
     "name": "stderr",
     "output_type": "stream",
     "text": [
      "Config 'configs/Yolact/yfcos_ds2_r50_x08.yaml' has no VERSION. Assuming it to be compatible with latest v2.\n"
     ]
    },
    {
     "name": "stdout",
     "output_type": "stream",
     "text": [
      "Loading and preparing results...\n",
      "DONE (t=0.00s)\n",
      "creating index...\n",
      "index created!\n",
      "Running per image evaluation...\n",
      "Evaluate annotation type *bbox*\n",
      "DONE (t=0.02s).\n",
      "Accumulating evaluation results...\n",
      "DONE (t=0.02s).\n",
      " Average Precision  (AP) @[ IoU=0.50:0.95 | area=   all | maxDets=100 ] = 0.865\n",
      " Average Precision  (AP) @[ IoU=0.50      | area=   all | maxDets=100 ] = 0.952\n",
      " Average Precision  (AP) @[ IoU=0.75      | area=   all | maxDets=100 ] = 0.952\n",
      " Average Precision  (AP) @[ IoU=0.50:0.95 | area= small | maxDets=100 ] = -1.000\n",
      " Average Precision  (AP) @[ IoU=0.50:0.95 | area=medium | maxDets=100 ] = 0.900\n",
      " Average Precision  (AP) @[ IoU=0.50:0.95 | area= large | maxDets=100 ] = 0.863\n",
      " Average Recall     (AR) @[ IoU=0.50:0.95 | area=   all | maxDets=  1 ] = 0.877\n",
      " Average Recall     (AR) @[ IoU=0.50:0.95 | area=   all | maxDets= 10 ] = 0.877\n",
      " Average Recall     (AR) @[ IoU=0.50:0.95 | area=   all | maxDets=100 ] = 0.877\n",
      " Average Recall     (AR) @[ IoU=0.50:0.95 | area= small | maxDets=100 ] = -1.000\n",
      " Average Recall     (AR) @[ IoU=0.50:0.95 | area=medium | maxDets=100 ] = 0.900\n",
      " Average Recall     (AR) @[ IoU=0.50:0.95 | area= large | maxDets=100 ] = 0.882\n",
      "Loading and preparing results...\n",
      "DONE (t=0.00s)\n",
      "creating index...\n",
      "index created!\n",
      "Running per image evaluation...\n",
      "Evaluate annotation type *segm*\n",
      "DONE (t=0.02s).\n",
      "Accumulating evaluation results...\n",
      "DONE (t=0.02s).\n",
      " Average Precision  (AP) @[ IoU=0.50:0.95 | area=   all | maxDets=100 ] = 0.653\n",
      " Average Precision  (AP) @[ IoU=0.50      | area=   all | maxDets=100 ] = 0.912\n",
      " Average Precision  (AP) @[ IoU=0.75      | area=   all | maxDets=100 ] = 0.655\n",
      " Average Precision  (AP) @[ IoU=0.50:0.95 | area= small | maxDets=100 ] = -1.000\n",
      " Average Precision  (AP) @[ IoU=0.50:0.95 | area=medium | maxDets=100 ] = 0.632\n",
      " Average Precision  (AP) @[ IoU=0.50:0.95 | area= large | maxDets=100 ] = 0.672\n",
      " Average Recall     (AR) @[ IoU=0.50:0.95 | area=   all | maxDets=  1 ] = 0.675\n",
      " Average Recall     (AR) @[ IoU=0.50:0.95 | area=   all | maxDets= 10 ] = 0.675\n",
      " Average Recall     (AR) @[ IoU=0.50:0.95 | area=   all | maxDets=100 ] = 0.675\n",
      " Average Recall     (AR) @[ IoU=0.50:0.95 | area= small | maxDets=100 ] = -1.000\n",
      " Average Recall     (AR) @[ IoU=0.50:0.95 | area=medium | maxDets=100 ] = 0.633\n",
      " Average Recall     (AR) @[ IoU=0.50:0.95 | area= large | maxDets=100 ] = 0.695\n",
      "---------------------------------------  model_0019999.pth  ---------------------------------------------\n"
     ]
    },
    {
     "name": "stderr",
     "output_type": "stream",
     "text": [
      "Config 'configs/Yolact/yfcos_ds2_r50_x08.yaml' has no VERSION. Assuming it to be compatible with latest v2.\n"
     ]
    },
    {
     "name": "stdout",
     "output_type": "stream",
     "text": [
      "Loading and preparing results...\n",
      "DONE (t=0.00s)\n",
      "creating index...\n",
      "index created!\n",
      "Running per image evaluation...\n",
      "Evaluate annotation type *bbox*\n",
      "DONE (t=0.01s).\n",
      "Accumulating evaluation results...\n",
      "DONE (t=0.02s).\n",
      " Average Precision  (AP) @[ IoU=0.50:0.95 | area=   all | maxDets=100 ] = 0.859\n",
      " Average Precision  (AP) @[ IoU=0.50      | area=   all | maxDets=100 ] = 0.952\n",
      " Average Precision  (AP) @[ IoU=0.75      | area=   all | maxDets=100 ] = 0.952\n",
      " Average Precision  (AP) @[ IoU=0.50:0.95 | area= small | maxDets=100 ] = -1.000\n",
      " Average Precision  (AP) @[ IoU=0.50:0.95 | area=medium | maxDets=100 ] = 0.900\n",
      " Average Precision  (AP) @[ IoU=0.50:0.95 | area= large | maxDets=100 ] = 0.854\n",
      " Average Recall     (AR) @[ IoU=0.50:0.95 | area=   all | maxDets=  1 ] = 0.873\n",
      " Average Recall     (AR) @[ IoU=0.50:0.95 | area=   all | maxDets= 10 ] = 0.873\n",
      " Average Recall     (AR) @[ IoU=0.50:0.95 | area=   all | maxDets=100 ] = 0.873\n",
      " Average Recall     (AR) @[ IoU=0.50:0.95 | area= small | maxDets=100 ] = -1.000\n",
      " Average Recall     (AR) @[ IoU=0.50:0.95 | area=medium | maxDets=100 ] = 0.900\n",
      " Average Recall     (AR) @[ IoU=0.50:0.95 | area= large | maxDets=100 ] = 0.875\n",
      "Loading and preparing results...\n",
      "DONE (t=0.00s)\n",
      "creating index...\n",
      "index created!\n",
      "Running per image evaluation...\n",
      "Evaluate annotation type *segm*\n",
      "DONE (t=0.02s).\n",
      "Accumulating evaluation results...\n",
      "DONE (t=0.02s).\n",
      " Average Precision  (AP) @[ IoU=0.50:0.95 | area=   all | maxDets=100 ] = 0.653\n",
      " Average Precision  (AP) @[ IoU=0.50      | area=   all | maxDets=100 ] = 0.912\n",
      " Average Precision  (AP) @[ IoU=0.75      | area=   all | maxDets=100 ] = 0.655\n",
      " Average Precision  (AP) @[ IoU=0.50:0.95 | area= small | maxDets=100 ] = -1.000\n",
      " Average Precision  (AP) @[ IoU=0.50:0.95 | area=medium | maxDets=100 ] = 0.632\n",
      " Average Precision  (AP) @[ IoU=0.50:0.95 | area= large | maxDets=100 ] = 0.672\n",
      " Average Recall     (AR) @[ IoU=0.50:0.95 | area=   all | maxDets=  1 ] = 0.675\n",
      " Average Recall     (AR) @[ IoU=0.50:0.95 | area=   all | maxDets= 10 ] = 0.675\n",
      " Average Recall     (AR) @[ IoU=0.50:0.95 | area=   all | maxDets=100 ] = 0.675\n",
      " Average Recall     (AR) @[ IoU=0.50:0.95 | area= small | maxDets=100 ] = -1.000\n",
      " Average Recall     (AR) @[ IoU=0.50:0.95 | area=medium | maxDets=100 ] = 0.633\n",
      " Average Recall     (AR) @[ IoU=0.50:0.95 | area= large | maxDets=100 ] = 0.695\n",
      "---------------------------------------  model_final.pth  ---------------------------------------------\n",
      "Loading and preparing results...\n",
      "DONE (t=0.00s)\n",
      "creating index...\n",
      "index created!\n",
      "Running per image evaluation...\n",
      "Evaluate annotation type *bbox*\n",
      "DONE (t=0.02s).\n",
      "Accumulating evaluation results...\n",
      "DONE (t=0.02s).\n",
      " Average Precision  (AP) @[ IoU=0.50:0.95 | area=   all | maxDets=100 ] = 0.859\n",
      " Average Precision  (AP) @[ IoU=0.50      | area=   all | maxDets=100 ] = 0.952\n",
      " Average Precision  (AP) @[ IoU=0.75      | area=   all | maxDets=100 ] = 0.952\n",
      " Average Precision  (AP) @[ IoU=0.50:0.95 | area= small | maxDets=100 ] = -1.000\n",
      " Average Precision  (AP) @[ IoU=0.50:0.95 | area=medium | maxDets=100 ] = 0.900\n",
      " Average Precision  (AP) @[ IoU=0.50:0.95 | area= large | maxDets=100 ] = 0.854\n",
      " Average Recall     (AR) @[ IoU=0.50:0.95 | area=   all | maxDets=  1 ] = 0.873\n",
      " Average Recall     (AR) @[ IoU=0.50:0.95 | area=   all | maxDets= 10 ] = 0.873\n",
      " Average Recall     (AR) @[ IoU=0.50:0.95 | area=   all | maxDets=100 ] = 0.873\n",
      " Average Recall     (AR) @[ IoU=0.50:0.95 | area= small | maxDets=100 ] = -1.000\n",
      " Average Recall     (AR) @[ IoU=0.50:0.95 | area=medium | maxDets=100 ] = 0.900\n",
      " Average Recall     (AR) @[ IoU=0.50:0.95 | area= large | maxDets=100 ] = 0.875\n",
      "Loading and preparing results...\n",
      "DONE (t=0.00s)\n",
      "creating index...\n",
      "index created!\n",
      "Running per image evaluation...\n",
      "Evaluate annotation type *segm*\n",
      "DONE (t=0.02s).\n",
      "Accumulating evaluation results...\n",
      "DONE (t=0.02s).\n",
      " Average Precision  (AP) @[ IoU=0.50:0.95 | area=   all | maxDets=100 ] = 0.653\n",
      " Average Precision  (AP) @[ IoU=0.50      | area=   all | maxDets=100 ] = 0.912\n",
      " Average Precision  (AP) @[ IoU=0.75      | area=   all | maxDets=100 ] = 0.655\n",
      " Average Precision  (AP) @[ IoU=0.50:0.95 | area= small | maxDets=100 ] = -1.000\n",
      " Average Precision  (AP) @[ IoU=0.50:0.95 | area=medium | maxDets=100 ] = 0.632\n",
      " Average Precision  (AP) @[ IoU=0.50:0.95 | area= large | maxDets=100 ] = 0.672\n",
      " Average Recall     (AR) @[ IoU=0.50:0.95 | area=   all | maxDets=  1 ] = 0.675\n",
      " Average Recall     (AR) @[ IoU=0.50:0.95 | area=   all | maxDets= 10 ] = 0.675\n",
      " Average Recall     (AR) @[ IoU=0.50:0.95 | area=   all | maxDets=100 ] = 0.675\n",
      " Average Recall     (AR) @[ IoU=0.50:0.95 | area= small | maxDets=100 ] = -1.000\n",
      " Average Recall     (AR) @[ IoU=0.50:0.95 | area=medium | maxDets=100 ] = 0.633\n",
      " Average Recall     (AR) @[ IoU=0.50:0.95 | area= large | maxDets=100 ] = 0.695\n"
     ]
    }
   ],
   "source": [
    "for checkpoint in checkpoints:\n",
    "    print('--------------------------------------- ',checkpoint,' ---------------------------------------------')\n",
    "\n",
    "    MODEL_PATH = os.path.join(yfmnt, checkpoint)\n",
    "    cfg = get_cfg()\n",
    "    cfg.merge_from_file(f\"configs/Yolact/{mymodel}.yaml\")\n",
    "    cfg.MODEL.FCOS.INFERENCE_TH_TEST = 0.6 # 0.3 for vids\n",
    "    \n",
    "    #cfg, predictor = setup_model(yfmnt, MODEL_PATH)\n",
    "\n",
    "    model = build_model(cfg)\n",
    "    AdetCheckpointer(model).load(MODEL_PATH)\n",
    "    \n",
    "    #evaluator = COCOEvaluator(\"ead_validation_1\", cfg, False, output_dir=model_path+\"/\")\n",
    "    evaluator = COCOEvaluator(\"custom_dataset_test\", cfg, False, output_dir=\"/home/redne/notebooks/output/\")\n",
    "    val_loader = build_detection_test_loader(cfg, \"custom_dataset_test\")\n",
    "    a = inference_on_dataset(model, val_loader, evaluator)\n",
    "    \n",
    "    APs.append(a.get('bbox')['AP'])\n",
    "    AP50s.append(a.get('bbox')['AP50'])\n",
    "    AP75s.append(a.get('bbox')['AP75'])"
   ]
  },
  {
   "cell_type": "code",
   "execution_count": 14,
   "metadata": {},
   "outputs": [
    {
     "data": {
      "text/plain": [
       "<torch.utils.data.dataloader.DataLoader at 0x7f88e7843f60>"
      ]
     },
     "execution_count": 14,
     "metadata": {},
     "output_type": "execute_result"
    }
   ],
   "source": [
    "evaluator.process"
   ]
  },
  {
   "cell_type": "code",
   "execution_count": 8,
   "metadata": {},
   "outputs": [
    {
     "data": {
      "text/plain": [
       "[74.3132051300368,\n",
       " 85.60726072607261,\n",
       " 86.48679867986799,\n",
       " 85.92904290429043,\n",
       " 85.92904290429043]"
      ]
     },
     "execution_count": 8,
     "metadata": {},
     "output_type": "execute_result"
    }
   ],
   "source": [
    "APs"
   ]
  },
  {
   "cell_type": "code",
   "execution_count": 9,
   "metadata": {},
   "outputs": [],
   "source": [
    "import matplotlib.pyplot as plt"
   ]
  },
  {
   "cell_type": "code",
   "execution_count": 10,
   "metadata": {},
   "outputs": [
    {
     "data": {
      "text/plain": [
       "[<matplotlib.lines.Line2D at 0x7f88e7c56c88>]"
      ]
     },
     "execution_count": 10,
     "metadata": {},
     "output_type": "execute_result"
    },
    {
     "data": {
      "image/png": "[encoded data removed]",
      "text/plain": [
       "<Figure size 432x288 with 1 Axes>"
      ]
     },
     "metadata": {
      "needs_background": "light"
     },
     "output_type": "display_data"
    }
   ],
   "source": [
    "plt.grid(True)\n",
    "plt.plot(APs)\n",
    "plt.plot(AP50s)\n",
    "plt.plot(AP75s)"
   ]
  },
  {
   "cell_type": "code",
   "execution_count": 11,
   "metadata": {},
   "outputs": [
    {
     "data": {
      "text/plain": [
       "[74.3132051300368,\n",
       " 85.60726072607261,\n",
       " 86.48679867986799,\n",
       " 85.92904290429043,\n",
       " 85.92904290429043]"
      ]
     },
     "execution_count": 11,
     "metadata": {},
     "output_type": "execute_result"
    }
   ],
   "source": [
    "APs"
   ]
  },
  {
   "cell_type": "code",
   "execution_count": 12,
   "metadata": {},
   "outputs": [
    {
     "data": {
      "text/plain": [
       "[90.62406240624064,\n",
       " 95.21452145214522,\n",
       " 95.21452145214522,\n",
       " 95.21452145214522,\n",
       " 95.21452145214522]"
      ]
     },
     "execution_count": 12,
     "metadata": {},
     "output_type": "execute_result"
    }
   ],
   "source": [
    "AP50s\n"
   ]
  },
  {
   "cell_type": "raw",
   "metadata": {},
   "source": [
    "cfg.SOLVER.MAX_ITER\n",
    "loss_names = ['BBox Loss', 'Conf Loss', 'Mask Loss']\n",
    "\n",
    "plt.title(os.path.basename(sys.argv[1]) + ' Training Loss')\n",
    "plt.xlabel('Iteration')\n",
    "plt.ylabel('Loss')\n",
    "loss_names = ['BBox Loss', 'Conf Loss', 'Mask Loss']"
   ]
  },
  {
   "cell_type": "markdown",
   "metadata": {},
   "source": [
    "---\n",
    "## Plot Losses\n",
    "\n",
    "Can also view in tensorboard:\n",
    "\n",
    "```\n",
    "nvidia-docker run -it -v /mnt/zerowastepublic/03-experiments/ds2:/mnt/zerowastepublic  -p 6006:6006 tensorflow/tensorflow:1.12.0-gpu-py3 bash \n",
    "cd /mnt/zerowastepublic/yolact_fcos/\n",
    "\n",
    "tensorboard --logdir yfcos_ds2_r50_x08:yfcos_ds2_r50_x08/,\\\n",
    "yfcos_ds2_r101_x01:yfcos_ds2_r101_x01/,\\\n",
    "yfcos_ds2_r101_x02:yfcos_ds2_r101_x02/,\\\n",
    "yfcos_ds2_r50_x06:yfcos_ds2_r50_x06/yfcos_ds2_r50_x06/\n",
    "```"
   ]
  },
  {
   "cell_type": "code",
   "execution_count": 45,
   "metadata": {},
   "outputs": [
    {
     "data": {
      "text/plain": [
       "['archive',\n",
       " 'yfcos_ds2_r101_x01',\n",
       " 'yfcos_ds2_r101_x02',\n",
       " 'yfcos_ds2_r50_x01_test',\n",
       " 'yfcos_ds2_r50_x06',\n",
       " 'yfcos_ds2_r50_x06v2',\n",
       " 'yfcos_ds2_r50_x08',\n",
       " 'yolactfcos_r50_ds2_x1',\n",
       " 'yolactfcos_r50_ds2_x1_test']"
      ]
     },
     "execution_count": 45,
     "metadata": {},
     "output_type": "execute_result"
    }
   ],
   "source": [
    "yfcos_path = '/mnt/zerowastepublic/03-experiments/ds2/yolact_fcos/'\n",
    "os.listdir(yfcos_path)"
   ]
  },
  {
   "cell_type": "code",
   "execution_count": 86,
   "metadata": {},
   "outputs": [
    {
     "data": {
      "text/plain": [
       "['/mnt/zerowastepublic/03-experiments/ds2/yolact_fcos/yfcos_ds2_r101_x02/metrics.json',\n",
       " '/mnt/zerowastepublic/03-experiments/ds2/yolact_fcos/yfcos_ds2_r50_x08/metrics.json',\n",
       " '/mnt/zerowastepublic/03-experiments/ds2/yolact_fcos/yfcos_ds2_r50_x06/yfcos_ds2_r50_x06/metrics.json']"
      ]
     },
     "execution_count": 86,
     "metadata": {},
     "output_type": "execute_result"
    }
   ],
   "source": [
    "# 'yfcos_ds2_r50_x06/yfcos_ds2_r50_x06/'\n",
    "models_in_scope = ['yfcos_ds2_r101_x02', 'yfcos_ds2_r50_x08', 'yfcos_ds2_r50_x06/yfcos_ds2_r50_x06/']\n",
    "\n",
    "metric_files = list()\n",
    "[metric_files.append(os.path.join(yfcos_path, m,'metrics.json')) for m in models_in_scope]\n",
    "metric_files"
   ]
  },
  {
   "cell_type": "markdown",
   "metadata": {},
   "source": [
    "a metric file looks like this:\n",
    "\n",
    "```json \n",
    "{\n",
    "    'data_time': 0.0065533440065337345,\n",
    "     'eta_seconds': 75.15423759885016,\n",
    "     'iteration': 19979,\n",
    "     'loss_fcos_cls': 0.001449436298571527,\n",
    "     'loss_fcos_ctr': 0.5844207108020782,\n",
    "     'loss_fcos_loc': 0.02412377018481493,\n",
    "     'loss_mask': 0.008787753991782665,\n",
    "     'lr': 2.5000000000000005e-08,\n",
    "     'time': 3.5934926730042207,\n",
    "     'total_loss': 0.6194688804098405\n",
    "}\n",
    "```"
   ]
  },
  {
   "cell_type": "code",
   "execution_count": 87,
   "metadata": {},
   "outputs": [],
   "source": [
    "iterations = cfg.SOLVER.MAX_ITER  # usually 20000\n",
    "\n",
    "def loss_from_metrics(file, iterations=20000):\n",
    "    if file == '/mnt/zerowastepublic/03-experiments/ds2/yolact_fcos/yfcos_ds2_r50_x06/yfcos_ds2_r50_x06/metrics.json':\n",
    "        iterations=40000\n",
    "    loss = []\n",
    "    for line in open(file, 'r'):\n",
    "        result = json.loads(line)\n",
    "        \n",
    "        loss.append(result['total_loss'])\n",
    "    loss_idx = [int(item) for item in list(np.linspace(0, iterations, len(loss)))]\n",
    "    \n",
    "    return loss, loss_idx"
   ]
  },
  {
   "cell_type": "code",
   "execution_count": 88,
   "metadata": {},
   "outputs": [],
   "source": [
    "val_dict = dict()\n",
    "for metric_file in metric_files:\n",
    "    model_exp_name = metric_file.split(\"/\")[-2]\n",
    "    loss_, loss_idx_ = loss_from_metrics(metric_file)\n",
    "    val_dict[model_exp_name] = {\n",
    "        'loss': loss_,\n",
    "        'loss_idx': loss_idx_\n",
    "    }\n"
   ]
  },
  {
   "cell_type": "code",
   "execution_count": 89,
   "metadata": {},
   "outputs": [
    {
     "data": {
      "text/plain": [
       "<matplotlib.legend.Legend at 0x7f88de86a5f8>"
      ]
     },
     "execution_count": 89,
     "metadata": {},
     "output_type": "execute_result"
    },
    {
     "data": {
      "image/png": "[encoded data removed]",
      "text/plain": [
       "<Figure size 720x720 with 1 Axes>"
      ]
     },
     "metadata": {
      "needs_background": "light"
     },
     "output_type": "display_data"
    }
   ],
   "source": [
    "plt.figure(figsize=(10, 10))\n",
    "for model_namex in list(val_dict.keys()):\n",
    "    plt.plot(val_dict[model_namex]['loss_idx'],\n",
    "             val_dict[model_namex]['loss'], label=f'{model_namex} Loss')\n",
    "\n",
    "plt.title('Loss for model ' + '{0}'.format(list(val_dict.keys())))\n",
    "plt.xlabel('Iterations')\n",
    "plt.ylabel('Validation Loss')\n",
    "plt.grid('True')\n",
    "plt.legend()\n",
    "#plt.savefig(os.path.join(savepath, filename))"
   ]
  },
  {
   "cell_type": "markdown",
   "metadata": {},
   "source": []
  },
  {
   "cell_type": "code",
   "execution_count": null,
   "metadata": {},
   "outputs": [],
   "source": []
  },
  {
   "cell_type": "markdown",
   "metadata": {},
   "source": [
    "---\n",
    "### Archive"
   ]
  },
  {
   "cell_type": "code",
   "execution_count": 18,
   "metadata": {},
   "outputs": [],
   "source": [
    "for line in open(METRICS_FILE, 'r'):\n",
    "    result = json.loads(line)"
   ]
  },
  {
   "cell_type": "code",
   "execution_count": 90,
   "metadata": {},
   "outputs": [
    {
     "data": {
      "text/plain": [
       "{'data_time': 0.0065533440065337345,\n",
       " 'eta_seconds': 75.15423759885016,\n",
       " 'iteration': 19979,\n",
       " 'loss_fcos_cls': 0.001449436298571527,\n",
       " 'loss_fcos_ctr': 0.5844207108020782,\n",
       " 'loss_fcos_loc': 0.02412377018481493,\n",
       " 'loss_mask': 0.008787753991782665,\n",
       " 'lr': 2.5000000000000005e-08,\n",
       " 'time': 3.5934926730042207,\n",
       " 'total_loss': 0.6194688804098405}"
      ]
     },
     "execution_count": 90,
     "metadata": {},
     "output_type": "execute_result"
    }
   ],
   "source": [
    "result"
   ]
  },
  {
   "cell_type": "code",
   "execution_count": 15,
   "metadata": {},
   "outputs": [],
   "source": [
    "import torch \n",
    "from detectron2.utils.visualizer import Visualizer\n",
    "from detectron2.data import MetadataCatalog, DatasetCatalog\n",
    "\n",
    "\n",
    "#inf_pred = \"../inference_output/instances_predictions.pth\"\n",
    "inf_pred = \"/home/redne/notebooks/output/instances_predictions.pth\"\n",
    "preds = torch.load(inf_pred)"
   ]
  },
  {
   "cell_type": "markdown",
   "metadata": {},
   "source": [
    "-----"
   ]
  },
  {
   "cell_type": "code",
   "execution_count": 25,
   "metadata": {},
   "outputs": [
    {
     "name": "stdout",
     "output_type": "stream",
     "text": [
      "id 0 score : 0.9500824213027954 === bbox: [347.1583251953125, 29.32404899597168, 903.1224365234375, 951.6009521484375]\n",
      "id 0 score : 0.9312323927879333 === bbox: [524.5166625976562, 0.0, 940.1331176757812, 1068.273681640625]\n",
      "id 0 score : 0.7494790554046631 === bbox: [404.641357421875, 0.0, 960.4454345703125, 123.1943588256836]\n",
      "id 1 score : 0.9386144280433655 === bbox: [778.4873657226562, 0.0, 576.9508666992188, 472.113525390625]\n",
      "id 1 score : 0.9335082173347473 === bbox: [585.3693237304688, 165.22328186035156, 237.1326904296875, 324.89422607421875]\n"
     ]
    }
   ],
   "source": [
    "import json\n",
    "from collections import OrderedDict\n",
    " \n",
    "with open('/home/redne/notebooks/output/coco_instances_results.json', encoding=\"utf-8\") as data_file:    \n",
    "    data = json.load(data_file)#, object_pairs_hook=OrderedDict)\n",
    "\n",
    "\n",
    "for item in data[:5] :\n",
    "  print('id', item['image_id'], 'score :', item['score'],'===', 'bbox:', item['bbox'])"
   ]
  },
  {
   "cell_type": "code",
   "execution_count": 26,
   "metadata": {},
   "outputs": [
    {
     "data": {
      "text/plain": [
       "dict_keys(['image_id', 'category_id', 'bbox', 'score', 'segmentation'])"
      ]
     },
     "execution_count": 26,
     "metadata": {},
     "output_type": "execute_result"
    }
   ],
   "source": [
    "item.keys()"
   ]
  },
  {
   "cell_type": "code",
   "execution_count": 29,
   "metadata": {},
   "outputs": [
    {
     "data": {
      "text/plain": [
       "{'image_id': 1,\n",
       " 'category_id': 3,\n",
       " 'bbox': [585.3693237304688,\n",
       "  165.22328186035156,\n",
       "  237.1326904296875,\n",
       "  324.89422607421875],\n",
       " 'score': 0.9335082173347473,\n",
       " 'segmentation': {'size': [1080, 1920],\n",
       "  'counts': 'hina05cQ10000000bf\\\\1<oXcN5L4L4K5L4K6]MYOkSOn0ei0XOPVO8Lk0ki0XOlUO?Df0Uj0ZOhUOY3mi0a2_O?H7I7M3K4M4M3M3M3M4L3N2N2N1O101O0O101O0O2O0O101O000O2O00000O101O0O10001N10000O2O0O101N100O2O00001N10001N100000000O2O000000000000000000000O2O01O0000000000000000001O00000000000000001O00000000001O000000001O000000001O000O101O000000001O00001O00001O0O2O00001O001O0O2O1O001N2O1O1N2O1O2N1N3N1O3M2N3L4M3M4L3M3L3N3M3M3M3M3M3M2N3L3N2N2N1O3M4L3M4L5J5L4L3M3M2N3M4K5L5K6J4L5K5J5L3M3M4L5J7J4K5K5L4K4L4M3L3M2O2M4M2M4L4M3L3M3M3M3L3L5J6I9F:G8I:FekYT1'}}"
      ]
     },
     "execution_count": 29,
     "metadata": {},
     "output_type": "execute_result"
    }
   ],
   "source": [
    "item"
   ]
  },
  {
   "cell_type": "markdown",
   "metadata": {},
   "source": [
    "-----\n",
    "### TODO Calc and Print maps (optimize) \n"
   ]
  },
  {
   "cell_type": "code",
   "execution_count": null,
   "metadata": {},
   "outputs": [],
   "source": [
    "# https://github.com/od-submission/od-testing/blob/1b576537926caf647304cc29d86fd14b34fd548e/src/object_extraction/Step1_extract_object.py\n",
    "def calc_map(ap_data):\n",
    "    print('Calculating mAP...')\n",
    "    aps = [{'box': [], 'mask': []} for _ in iou_thresholds]\n",
    "\n",
    "    for _class in range(len(cfg.dataset.class_names)):\n",
    "        for iou_idx in range(len(iou_thresholds)):\n",
    "            for iou_type in ('box', 'mask'):\n",
    "                ap_obj = ap_data[iou_type][iou_idx][_class]\n",
    "\n",
    "                if not ap_obj.is_empty():\n",
    "                    aps[iou_idx][iou_type].append(ap_obj.get_ap())\n",
    "\n",
    "    all_maps = {'box': OrderedDict(), 'mask': OrderedDict()}\n",
    "\n",
    "    # Looking back at it, this code is really hard to read :/\n",
    "    for iou_type in ('box', 'mask'):\n",
    "        all_maps[iou_type]['all'] = 0 # Make this first in the ordereddict\n",
    "        for i, threshold in enumerate(iou_thresholds):\n",
    "            mAP = sum(aps[i][iou_type]) / len(aps[i][iou_type]) * 100 if len(aps[i][iou_type]) > 0 else 0\n",
    "            all_maps[iou_type][int(threshold*100)] = mAP\n",
    "        all_maps[iou_type]['all'] = (sum(all_maps[iou_type].values()) / (len(all_maps[iou_type].values())-1))\n",
    "\n",
    "    print_maps(all_maps)\n",
    "    return all_maps\n",
    "\n",
    "def print_maps(all_maps):\n",
    "    # Warning: hacky\n",
    "    make_row = lambda vals: (' %5s |' * len(vals)) % tuple(vals)\n",
    "    make_sep = lambda n:  ('-------+' * n)\n",
    "\n",
    "    print()\n",
    "    print(make_row([''] + [('.%d ' % x if isinstance(x, int) else x + ' ') for x in all_maps['box'].keys()]))\n",
    "    print(make_sep(len(all_maps['box']) + 1))\n",
    "    for iou_type in ('box', 'mask'):\n",
    "        print(make_row([iou_type] + ['%.2f' % x for x in all_maps[iou_type].values()]))\n",
    "    print(make_sep(len(all_maps['box']) + 1))\n",
    "    print()\n"
   ]
  },
  {
   "cell_type": "markdown",
   "metadata": {},
   "source": [
    "---\n",
    "### yolact_d"
   ]
  },
  {
   "cell_type": "code",
   "execution_count": 30,
   "metadata": {},
   "outputs": [],
   "source": [
    "import pickle\n",
    "#from yfcos_utils import CPDataObject"
   ]
  },
  {
   "cell_type": "code",
   "execution_count": 34,
   "metadata": {},
   "outputs": [],
   "source": [
    "AP_FILE = '/home/redne/mnt/project_zero/project_zero/ds1/experiments/output/yolact_d/yolactpp_R50_061620/results/ap_data.pkl'\n",
    "with open(AP_FILE, 'rb') as f:\n",
    "    ap_data = pickle.load(f)"
   ]
  },
  {
   "cell_type": "code",
   "execution_count": 38,
   "metadata": {},
   "outputs": [
    {
     "data": {
      "text/plain": [
       "[0.5, 0.55, 0.6, 0.65, 0.7, 0.75, 0.8, 0.85, 0.9, 0.95]"
      ]
     },
     "execution_count": 38,
     "metadata": {},
     "output_type": "execute_result"
    }
   ],
   "source": [
    "iou_thresholds = [x / 100 for x in range(50, 100, 5)]\n",
    "iou_thresholds"
   ]
  },
  {
   "cell_type": "code",
   "execution_count": 36,
   "metadata": {},
   "outputs": [],
   "source": [
    "def calc_map(ap_data):\n",
    "    print('Calculating mAP...')\n",
    "    aps = [{'box': [], 'mask': []} for _ in iou_thresholds]\n",
    "         \n",
    "    for _class in range(len(cfg.dataset.class_names)):\n",
    "        for iou_idx in range(len(iou_thresholds)):\n",
    "            for iou_type in ('box', 'mask'):\n",
    "                ap_obj = ap_data[iou_type][iou_idx][_class]\n",
    "\n",
    "                if not ap_obj.is_empty():\n",
    "                    aps[iou_idx][iou_type].append(ap_obj.get_ap())\n",
    "\n",
    "    all_maps = {'box': OrderedDict(), 'mask': OrderedDict()}\n",
    "\n",
    "    # Looking back at it, this code is really hard to read :/\n",
    "    for iou_type in ('box', 'mask'):\n",
    "        all_maps[iou_type]['all'] = 0 # Make this first in the ordereddict\n",
    "        for i, threshold in enumerate(iou_thresholds):\n",
    "            mAP = sum(aps[i][iou_type]) / len(aps[i][iou_type]) * 100 if len(aps[i][iou_type]) > 0 else 0\n",
    "            all_maps[iou_type][int(threshold*100)] = mAP\n",
    "        all_maps[iou_type]['all'] = (sum(all_maps[iou_type].values()) / (len(all_maps[iou_type].values())-1))\n",
    "    \n",
    "    print_maps(all_maps)\n",
    "    \n",
    "    # Put in a prettier format so we can serialize it to json during training\n",
    "    all_maps = {k: {j: round(u, 2) for j, u in v.items()} for k, v in all_maps.items()}\n",
    "    return all_maps"
   ]
  },
  {
   "cell_type": "code",
   "execution_count": 39,
   "metadata": {},
   "outputs": [
    {
     "name": "stdout",
     "output_type": "stream",
     "text": [
      "Calculating mAP...\n"
     ]
    },
    {
     "ename": "AttributeError",
     "evalue": "dataset",
     "output_type": "error",
     "traceback": [
      "\u001b[0;31m---------------------------------------------------------------------------\u001b[0m",
      "\u001b[0;31mAttributeError\u001b[0m                            Traceback (most recent call last)",
      "\u001b[0;32m<ipython-input-39-b4185baba49f>\u001b[0m in \u001b[0;36m<module>\u001b[0;34m\u001b[0m\n\u001b[0;32m----> 1\u001b[0;31m \u001b[0mmy_maps\u001b[0m \u001b[0;34m=\u001b[0m \u001b[0mcalc_map\u001b[0m\u001b[0;34m(\u001b[0m\u001b[0map_data\u001b[0m\u001b[0;34m)\u001b[0m\u001b[0;34m\u001b[0m\u001b[0m\n\u001b[0m",
      "\u001b[0;32m<ipython-input-36-c10d6cd67e24>\u001b[0m in \u001b[0;36mcalc_map\u001b[0;34m(ap_data)\u001b[0m\n\u001b[1;32m      3\u001b[0m     \u001b[0maps\u001b[0m \u001b[0;34m=\u001b[0m \u001b[0;34m[\u001b[0m\u001b[0;34m{\u001b[0m\u001b[0;34m'box'\u001b[0m\u001b[0;34m:\u001b[0m \u001b[0;34m[\u001b[0m\u001b[0;34m]\u001b[0m\u001b[0;34m,\u001b[0m \u001b[0;34m'mask'\u001b[0m\u001b[0;34m:\u001b[0m \u001b[0;34m[\u001b[0m\u001b[0;34m]\u001b[0m\u001b[0;34m}\u001b[0m \u001b[0;32mfor\u001b[0m \u001b[0m_\u001b[0m \u001b[0;32min\u001b[0m \u001b[0miou_thresholds\u001b[0m\u001b[0;34m]\u001b[0m\u001b[0;34m\u001b[0m\u001b[0m\n\u001b[1;32m      4\u001b[0m \u001b[0;34m\u001b[0m\u001b[0m\n\u001b[0;32m----> 5\u001b[0;31m     \u001b[0;32mfor\u001b[0m \u001b[0m_class\u001b[0m \u001b[0;32min\u001b[0m \u001b[0mrange\u001b[0m\u001b[0;34m(\u001b[0m\u001b[0mlen\u001b[0m\u001b[0;34m(\u001b[0m\u001b[0mcfg\u001b[0m\u001b[0;34m.\u001b[0m\u001b[0mdataset\u001b[0m\u001b[0;34m.\u001b[0m\u001b[0mclass_names\u001b[0m\u001b[0;34m)\u001b[0m\u001b[0;34m)\u001b[0m\u001b[0;34m:\u001b[0m\u001b[0;34m\u001b[0m\u001b[0m\n\u001b[0m\u001b[1;32m      6\u001b[0m         \u001b[0;32mfor\u001b[0m \u001b[0miou_idx\u001b[0m \u001b[0;32min\u001b[0m \u001b[0mrange\u001b[0m\u001b[0;34m(\u001b[0m\u001b[0mlen\u001b[0m\u001b[0;34m(\u001b[0m\u001b[0miou_thresholds\u001b[0m\u001b[0;34m)\u001b[0m\u001b[0;34m)\u001b[0m\u001b[0;34m:\u001b[0m\u001b[0;34m\u001b[0m\u001b[0m\n\u001b[1;32m      7\u001b[0m             \u001b[0;32mfor\u001b[0m \u001b[0miou_type\u001b[0m \u001b[0;32min\u001b[0m \u001b[0;34m(\u001b[0m\u001b[0;34m'box'\u001b[0m\u001b[0;34m,\u001b[0m \u001b[0;34m'mask'\u001b[0m\u001b[0;34m)\u001b[0m\u001b[0;34m:\u001b[0m\u001b[0;34m\u001b[0m\u001b[0m\n",
      "\u001b[0;32m~/anaconda3/envs/detectron2-pipeline/lib/python3.6/site-packages/yacs/config.py\u001b[0m in \u001b[0;36m__getattr__\u001b[0;34m(self, name)\u001b[0m\n\u001b[1;32m    139\u001b[0m             \u001b[0;32mreturn\u001b[0m \u001b[0mself\u001b[0m\u001b[0;34m[\u001b[0m\u001b[0mname\u001b[0m\u001b[0;34m]\u001b[0m\u001b[0;34m\u001b[0m\u001b[0m\n\u001b[1;32m    140\u001b[0m         \u001b[0;32melse\u001b[0m\u001b[0;34m:\u001b[0m\u001b[0;34m\u001b[0m\u001b[0m\n\u001b[0;32m--> 141\u001b[0;31m             \u001b[0;32mraise\u001b[0m \u001b[0mAttributeError\u001b[0m\u001b[0;34m(\u001b[0m\u001b[0mname\u001b[0m\u001b[0;34m)\u001b[0m\u001b[0;34m\u001b[0m\u001b[0m\n\u001b[0m\u001b[1;32m    142\u001b[0m \u001b[0;34m\u001b[0m\u001b[0m\n\u001b[1;32m    143\u001b[0m     \u001b[0;32mdef\u001b[0m \u001b[0m__setattr__\u001b[0m\u001b[0;34m(\u001b[0m\u001b[0mself\u001b[0m\u001b[0;34m,\u001b[0m \u001b[0mname\u001b[0m\u001b[0;34m,\u001b[0m \u001b[0mvalue\u001b[0m\u001b[0;34m)\u001b[0m\u001b[0;34m:\u001b[0m\u001b[0;34m\u001b[0m\u001b[0m\n",
      "\u001b[0;31mAttributeError\u001b[0m: dataset"
     ]
    }
   ],
   "source": [
    "my_maps = calc_map(ap_data)"
   ]
  },
  {
   "cell_type": "code",
   "execution_count": null,
   "metadata": {},
   "outputs": [],
   "source": []
  },
  {
   "cell_type": "code",
   "execution_count": null,
   "metadata": {},
   "outputs": [],
   "source": []
  }
 ],
 "metadata": {
  "kernelspec": {
   "display_name": "dtron2",
   "language": "python",
   "name": "dtron2"
  },
  "language_info": {
   "codemirror_mode": {
    "name": "ipython",
    "version": 3
   },
   "file_extension": ".py",
   "mimetype": "text/x-python",
   "name": "python",
   "nbconvert_exporter": "python",
   "pygments_lexer": "ipython3",
   "version": "3.6.5"
  }
 },
 "nbformat": 4,
 "nbformat_minor": 4
}
